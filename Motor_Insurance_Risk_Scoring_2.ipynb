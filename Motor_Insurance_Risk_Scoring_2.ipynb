{
  "cells": [
    {
      "cell_type": "markdown",
      "metadata": {
        "id": "view-in-github",
        "colab_type": "text"
      },
      "source": [
        "<a href=\"https://colab.research.google.com/github/simbrizzy/Brizzy101/blob/master/Motor_Insurance_Risk_Scoring_2.ipynb\" target=\"_parent\"><img src=\"https://colab.research.google.com/assets/colab-badge.svg\" alt=\"Open In Colab\"/></a>"
      ]
    },
    {
      "cell_type": "markdown",
      "metadata": {
        "id": "SNnbWbteqJVe"
      },
      "source": [
        "PROJECT OVERVIEW: PREDICTING RISK SCORES FOR INSURANCE CLAIMS\n",
        "This project aimed to develop a machine learning model to assign risk scores to policyholders, helping the insurance company identify individuals with a higher likelihood of making claims. By analyzing historical data on policyholder attributes and claims, the goal was to build a reliable model that supports decision-making, such as risk-based pricing or tailored interventions for high-risk clients.\n",
        "\n",
        "ESSENCE OF THE PROJECT\n",
        "\n",
        "Insurance companies face challenges in balancing profitability with customer fairness. Predicting claim likelihood is critical to assess risk, set premiums, and reduce potential losses. Our project introduced a data-driven approach, where machine learning was used to:\n",
        "\n",
        "Identify patterns in policyholder data.\n",
        "Predict the probability of a claim (risk score) for each policyholder.\n",
        "Support proactive business decisions by providing actionable insights based on the predicted risk."
      ]
    },
    {
      "cell_type": "code",
      "execution_count": null,
      "metadata": {
        "id": "xRlCJmmgqJVk"
      },
      "outputs": [],
      "source": [
        "#importing the necessary libraries\n",
        "import pandas as pd\n",
        "import numpy as np\n",
        "from sklearn.model_selection import train_test_split\n",
        "from sklearn.ensemble import RandomForestClassifier\n",
        "from sklearn.metrics import classification_report, roc_auc_score"
      ]
    },
    {
      "cell_type": "code",
      "execution_count": null,
      "metadata": {
        "id": "y4PxZCGfqJVn"
      },
      "outputs": [],
      "source": [
        "#loaded my data using the code below\n",
        "data= pd.read_csv(\"C:\\\\Users\\\\bryan\\\\OneDrive\\\\Documents\\\\VS Code Projects\\\\car insurance claim data.csv\")"
      ]
    },
    {
      "cell_type": "markdown",
      "metadata": {
        "id": "RMoNf_DNqJVo"
      },
      "source": [
        "Data Inspection"
      ]
    },
    {
      "cell_type": "code",
      "execution_count": null,
      "metadata": {
        "id": "nwhjPa_VqJVp",
        "outputId": "eeaa4e0f-d9e7-4e6b-f7d8-da6035388477"
      },
      "outputs": [
        {
          "data": {
            "text/html": [
              "<div>\n",
              "<style scoped>\n",
              "    .dataframe tbody tr th:only-of-type {\n",
              "        vertical-align: middle;\n",
              "    }\n",
              "\n",
              "    .dataframe tbody tr th {\n",
              "        vertical-align: top;\n",
              "    }\n",
              "\n",
              "    .dataframe thead th {\n",
              "        text-align: right;\n",
              "    }\n",
              "</style>\n",
              "<table border=\"1\" class=\"dataframe\">\n",
              "  <thead>\n",
              "    <tr style=\"text-align: right;\">\n",
              "      <th></th>\n",
              "      <th>ID</th>\n",
              "      <th>KIDSDRIV</th>\n",
              "      <th>BIRTH</th>\n",
              "      <th>AGE</th>\n",
              "      <th>HOMEKIDS</th>\n",
              "      <th>YOJ</th>\n",
              "      <th>INCOME</th>\n",
              "      <th>PARENT1</th>\n",
              "      <th>HOME_VAL</th>\n",
              "      <th>MSTATUS</th>\n",
              "      <th>...</th>\n",
              "      <th>CAR_TYPE</th>\n",
              "      <th>RED_CAR</th>\n",
              "      <th>OLDCLAIM</th>\n",
              "      <th>CLM_FREQ</th>\n",
              "      <th>REVOKED</th>\n",
              "      <th>MVR_PTS</th>\n",
              "      <th>CLM_AMT</th>\n",
              "      <th>CAR_AGE</th>\n",
              "      <th>CLAIM_FLAG</th>\n",
              "      <th>URBANICITY</th>\n",
              "    </tr>\n",
              "  </thead>\n",
              "  <tbody>\n",
              "    <tr>\n",
              "      <th>0</th>\n",
              "      <td>63581743</td>\n",
              "      <td>0</td>\n",
              "      <td>16-Mar-39</td>\n",
              "      <td>60.0</td>\n",
              "      <td>0</td>\n",
              "      <td>11.0</td>\n",
              "      <td>$67,349</td>\n",
              "      <td>No</td>\n",
              "      <td>$0</td>\n",
              "      <td>z_No</td>\n",
              "      <td>...</td>\n",
              "      <td>Minivan</td>\n",
              "      <td>yes</td>\n",
              "      <td>$4,461</td>\n",
              "      <td>2</td>\n",
              "      <td>No</td>\n",
              "      <td>3</td>\n",
              "      <td>$0</td>\n",
              "      <td>18.0</td>\n",
              "      <td>0</td>\n",
              "      <td>Highly Urban/ Urban</td>\n",
              "    </tr>\n",
              "    <tr>\n",
              "      <th>1</th>\n",
              "      <td>132761049</td>\n",
              "      <td>0</td>\n",
              "      <td>21-Jan-56</td>\n",
              "      <td>43.0</td>\n",
              "      <td>0</td>\n",
              "      <td>11.0</td>\n",
              "      <td>$91,449</td>\n",
              "      <td>No</td>\n",
              "      <td>$257,252</td>\n",
              "      <td>z_No</td>\n",
              "      <td>...</td>\n",
              "      <td>Minivan</td>\n",
              "      <td>yes</td>\n",
              "      <td>$0</td>\n",
              "      <td>0</td>\n",
              "      <td>No</td>\n",
              "      <td>0</td>\n",
              "      <td>$0</td>\n",
              "      <td>1.0</td>\n",
              "      <td>0</td>\n",
              "      <td>Highly Urban/ Urban</td>\n",
              "    </tr>\n",
              "    <tr>\n",
              "      <th>2</th>\n",
              "      <td>921317019</td>\n",
              "      <td>0</td>\n",
              "      <td>18-Nov-51</td>\n",
              "      <td>48.0</td>\n",
              "      <td>0</td>\n",
              "      <td>11.0</td>\n",
              "      <td>$52,881</td>\n",
              "      <td>No</td>\n",
              "      <td>$0</td>\n",
              "      <td>z_No</td>\n",
              "      <td>...</td>\n",
              "      <td>Van</td>\n",
              "      <td>yes</td>\n",
              "      <td>$0</td>\n",
              "      <td>0</td>\n",
              "      <td>No</td>\n",
              "      <td>2</td>\n",
              "      <td>$0</td>\n",
              "      <td>10.0</td>\n",
              "      <td>0</td>\n",
              "      <td>Highly Urban/ Urban</td>\n",
              "    </tr>\n",
              "    <tr>\n",
              "      <th>3</th>\n",
              "      <td>727598473</td>\n",
              "      <td>0</td>\n",
              "      <td>05-Mar-64</td>\n",
              "      <td>35.0</td>\n",
              "      <td>1</td>\n",
              "      <td>10.0</td>\n",
              "      <td>$16,039</td>\n",
              "      <td>No</td>\n",
              "      <td>$124,191</td>\n",
              "      <td>Yes</td>\n",
              "      <td>...</td>\n",
              "      <td>z_SUV</td>\n",
              "      <td>no</td>\n",
              "      <td>$38,690</td>\n",
              "      <td>2</td>\n",
              "      <td>No</td>\n",
              "      <td>3</td>\n",
              "      <td>$0</td>\n",
              "      <td>10.0</td>\n",
              "      <td>0</td>\n",
              "      <td>Highly Urban/ Urban</td>\n",
              "    </tr>\n",
              "    <tr>\n",
              "      <th>4</th>\n",
              "      <td>450221861</td>\n",
              "      <td>0</td>\n",
              "      <td>05-Jun-48</td>\n",
              "      <td>51.0</td>\n",
              "      <td>0</td>\n",
              "      <td>14.0</td>\n",
              "      <td>NaN</td>\n",
              "      <td>No</td>\n",
              "      <td>$306,251</td>\n",
              "      <td>Yes</td>\n",
              "      <td>...</td>\n",
              "      <td>Minivan</td>\n",
              "      <td>yes</td>\n",
              "      <td>$0</td>\n",
              "      <td>0</td>\n",
              "      <td>No</td>\n",
              "      <td>0</td>\n",
              "      <td>$0</td>\n",
              "      <td>6.0</td>\n",
              "      <td>0</td>\n",
              "      <td>Highly Urban/ Urban</td>\n",
              "    </tr>\n",
              "  </tbody>\n",
              "</table>\n",
              "<p>5 rows × 27 columns</p>\n",
              "</div>"
            ],
            "text/plain": [
              "          ID  KIDSDRIV      BIRTH   AGE  HOMEKIDS   YOJ   INCOME PARENT1  \\\n",
              "0   63581743         0  16-Mar-39  60.0         0  11.0  $67,349      No   \n",
              "1  132761049         0  21-Jan-56  43.0         0  11.0  $91,449      No   \n",
              "2  921317019         0  18-Nov-51  48.0         0  11.0  $52,881      No   \n",
              "3  727598473         0  05-Mar-64  35.0         1  10.0  $16,039      No   \n",
              "4  450221861         0  05-Jun-48  51.0         0  14.0      NaN      No   \n",
              "\n",
              "   HOME_VAL MSTATUS  ... CAR_TYPE RED_CAR OLDCLAIM  CLM_FREQ REVOKED MVR_PTS  \\\n",
              "0        $0    z_No  ...  Minivan     yes   $4,461         2      No       3   \n",
              "1  $257,252    z_No  ...  Minivan     yes       $0         0      No       0   \n",
              "2        $0    z_No  ...      Van     yes       $0         0      No       2   \n",
              "3  $124,191     Yes  ...    z_SUV      no  $38,690         2      No       3   \n",
              "4  $306,251     Yes  ...  Minivan     yes       $0         0      No       0   \n",
              "\n",
              "   CLM_AMT CAR_AGE CLAIM_FLAG           URBANICITY  \n",
              "0       $0    18.0          0  Highly Urban/ Urban  \n",
              "1       $0     1.0          0  Highly Urban/ Urban  \n",
              "2       $0    10.0          0  Highly Urban/ Urban  \n",
              "3       $0    10.0          0  Highly Urban/ Urban  \n",
              "4       $0     6.0          0  Highly Urban/ Urban  \n",
              "\n",
              "[5 rows x 27 columns]"
            ]
          },
          "execution_count": 3,
          "metadata": {},
          "output_type": "execute_result"
        }
      ],
      "source": [
        "#Now lets do some small data inspection of the data\n",
        "#starting by calling the first five rows of the data\n",
        "data.head()"
      ]
    },
    {
      "cell_type": "code",
      "execution_count": null,
      "metadata": {
        "id": "Jx24Yt6GqJVs",
        "outputId": "03a3954a-59c2-4cc3-f751-da1b28e5b3b6"
      },
      "outputs": [
        {
          "data": {
            "text/plain": [
              "(10302, 27)"
            ]
          },
          "execution_count": 4,
          "metadata": {},
          "output_type": "execute_result"
        }
      ],
      "source": [
        "#checking the shape of the data\n",
        "data.shape"
      ]
    },
    {
      "cell_type": "code",
      "execution_count": null,
      "metadata": {
        "id": "qo6qBalHqJVt",
        "outputId": "1eb44864-206a-4fe7-e740-4995ea64831c"
      },
      "outputs": [
        {
          "data": {
            "text/plain": [
              "ID              int64\n",
              "KIDSDRIV        int64\n",
              "BIRTH          object\n",
              "AGE           float64\n",
              "HOMEKIDS        int64\n",
              "YOJ           float64\n",
              "INCOME         object\n",
              "PARENT1        object\n",
              "HOME_VAL       object\n",
              "MSTATUS        object\n",
              "GENDER         object\n",
              "EDUCATION      object\n",
              "OCCUPATION     object\n",
              "TRAVTIME        int64\n",
              "CAR_USE        object\n",
              "BLUEBOOK       object\n",
              "TIF             int64\n",
              "CAR_TYPE       object\n",
              "RED_CAR        object\n",
              "OLDCLAIM       object\n",
              "CLM_FREQ        int64\n",
              "REVOKED        object\n",
              "MVR_PTS         int64\n",
              "CLM_AMT        object\n",
              "CAR_AGE       float64\n",
              "CLAIM_FLAG      int64\n",
              "URBANICITY     object\n",
              "dtype: object"
            ]
          },
          "execution_count": 5,
          "metadata": {},
          "output_type": "execute_result"
        }
      ],
      "source": [
        "#checking the data types of the data\n",
        "data.dtypes"
      ]
    },
    {
      "cell_type": "code",
      "execution_count": null,
      "metadata": {
        "id": "zU9_9uukqJVv",
        "outputId": "98ba65ff-b60d-4905-c183-e418e8c96e41"
      },
      "outputs": [
        {
          "data": {
            "text/plain": [
              "ID              0\n",
              "KIDSDRIV        0\n",
              "BIRTH           0\n",
              "AGE             7\n",
              "HOMEKIDS        0\n",
              "YOJ           548\n",
              "INCOME        570\n",
              "PARENT1         0\n",
              "HOME_VAL      575\n",
              "MSTATUS         0\n",
              "GENDER          0\n",
              "EDUCATION       0\n",
              "OCCUPATION    665\n",
              "TRAVTIME        0\n",
              "CAR_USE         0\n",
              "BLUEBOOK        0\n",
              "TIF             0\n",
              "CAR_TYPE        0\n",
              "RED_CAR         0\n",
              "OLDCLAIM        0\n",
              "CLM_FREQ        0\n",
              "REVOKED         0\n",
              "MVR_PTS         0\n",
              "CLM_AMT         0\n",
              "CAR_AGE       639\n",
              "CLAIM_FLAG      0\n",
              "URBANICITY      0\n",
              "dtype: int64"
            ]
          },
          "execution_count": 6,
          "metadata": {},
          "output_type": "execute_result"
        }
      ],
      "source": [
        "#to check if our data has any null values\n",
        "data.isnull().sum()"
      ]
    },
    {
      "cell_type": "markdown",
      "metadata": {
        "id": "Ab-g6RrEqJVw"
      },
      "source": [
        "Data Pre-Processing"
      ]
    },
    {
      "cell_type": "code",
      "execution_count": null,
      "metadata": {
        "id": "XlmPWoQ8qJVx",
        "outputId": "2fbc2102-d497-49dd-b952-f09feac8df07"
      },
      "outputs": [
        {
          "name": "stderr",
          "output_type": "stream",
          "text": [
            "<>:2: SyntaxWarning: invalid escape sequence '\\$'\n",
            "<>:3: SyntaxWarning: invalid escape sequence '\\$'\n",
            "<>:2: SyntaxWarning: invalid escape sequence '\\$'\n",
            "<>:3: SyntaxWarning: invalid escape sequence '\\$'\n",
            "C:\\Users\\bryan\\AppData\\Local\\Temp\\ipykernel_21380\\710161493.py:2: SyntaxWarning: invalid escape sequence '\\$'\n",
            "  data['INCOME'] = data['INCOME'].replace('[\\$,]', '', regex=True).astype(float).fillna(0)\n",
            "C:\\Users\\bryan\\AppData\\Local\\Temp\\ipykernel_21380\\710161493.py:3: SyntaxWarning: invalid escape sequence '\\$'\n",
            "  data['HOME_VAL']= data['HOME_VAL'].replace('[\\$,]','',regex=True).astype(float).fillna(0)\n"
          ]
        }
      ],
      "source": [
        "#now removing the dollar signs ($) and commas from columns like INCOME, HOME_VAL, etc.\n",
        "data['INCOME'] = data['INCOME'].replace('[\\$,]', '', regex=True).astype(float).fillna(0)\n",
        "data['HOME_VAL']= data['HOME_VAL'].replace('[\\$,]','',regex=True).astype(float).fillna(0)"
      ]
    },
    {
      "cell_type": "code",
      "execution_count": null,
      "metadata": {
        "id": "Xu_0M7I2qJVy"
      },
      "outputs": [],
      "source": [
        "#Dealing with missing values\n",
        "data['AGE'] = data['AGE'].fillna(data['AGE'].median())\n",
        "data['YOJ'] = data['YOJ'].fillna(data['YOJ'].median())\n",
        "data['INCOME']= data['INCOME'].fillna(data['INCOME'].median())\n",
        "data['HOME_VAL']= data['HOME_VAL'].fillna(data['HOME_VAL'].median())\n",
        "data['CAR_AGE']= data['CAR_AGE'].fillna(data['CAR_AGE'].median())\n",
        "data['OCCUPATION']= data['OCCUPATION'].fillna('Unknown') #since 'OCCUPATION' is an object/string. I replaced the missing values with 'Unknown'\n"
      ]
    },
    {
      "cell_type": "code",
      "execution_count": null,
      "metadata": {
        "id": "jWZkBJZyqJVz",
        "outputId": "3966883e-3d4c-4a32-fd41-5c331eb320fc"
      },
      "outputs": [
        {
          "data": {
            "text/plain": [
              "ID            0\n",
              "KIDSDRIV      0\n",
              "BIRTH         0\n",
              "AGE           0\n",
              "HOMEKIDS      0\n",
              "YOJ           0\n",
              "INCOME        0\n",
              "PARENT1       0\n",
              "HOME_VAL      0\n",
              "MSTATUS       0\n",
              "GENDER        0\n",
              "EDUCATION     0\n",
              "OCCUPATION    0\n",
              "TRAVTIME      0\n",
              "CAR_USE       0\n",
              "BLUEBOOK      0\n",
              "TIF           0\n",
              "CAR_TYPE      0\n",
              "RED_CAR       0\n",
              "OLDCLAIM      0\n",
              "CLM_FREQ      0\n",
              "REVOKED       0\n",
              "MVR_PTS       0\n",
              "CLM_AMT       0\n",
              "CAR_AGE       0\n",
              "CLAIM_FLAG    0\n",
              "URBANICITY    0\n",
              "dtype: int64"
            ]
          },
          "execution_count": 9,
          "metadata": {},
          "output_type": "execute_result"
        }
      ],
      "source": [
        "#investigating if we have null values after imputation\n",
        "data.isnull().sum()"
      ]
    },
    {
      "cell_type": "code",
      "execution_count": null,
      "metadata": {
        "id": "q9MpiteyqJV0",
        "outputId": "f830e3ed-4a34-426b-99b6-01b50dbf29e6"
      },
      "outputs": [
        {
          "data": {
            "text/plain": [
              "(10302, 27)"
            ]
          },
          "execution_count": 10,
          "metadata": {},
          "output_type": "execute_result"
        }
      ],
      "source": [
        "data.shape"
      ]
    },
    {
      "cell_type": "code",
      "execution_count": null,
      "metadata": {
        "id": "dmWfImEqqJV0",
        "outputId": "1bc3d605-a9d2-45bc-d622-cbf3bb588821"
      },
      "outputs": [
        {
          "data": {
            "text/html": [
              "<div>\n",
              "<style scoped>\n",
              "    .dataframe tbody tr th:only-of-type {\n",
              "        vertical-align: middle;\n",
              "    }\n",
              "\n",
              "    .dataframe tbody tr th {\n",
              "        vertical-align: top;\n",
              "    }\n",
              "\n",
              "    .dataframe thead th {\n",
              "        text-align: right;\n",
              "    }\n",
              "</style>\n",
              "<table border=\"1\" class=\"dataframe\">\n",
              "  <thead>\n",
              "    <tr style=\"text-align: right;\">\n",
              "      <th></th>\n",
              "      <th>ID</th>\n",
              "      <th>KIDSDRIV</th>\n",
              "      <th>AGE</th>\n",
              "      <th>HOMEKIDS</th>\n",
              "      <th>YOJ</th>\n",
              "      <th>INCOME</th>\n",
              "      <th>HOME_VAL</th>\n",
              "      <th>TRAVTIME</th>\n",
              "      <th>TIF</th>\n",
              "      <th>CLM_FREQ</th>\n",
              "      <th>MVR_PTS</th>\n",
              "      <th>CAR_AGE</th>\n",
              "      <th>CLAIM_FLAG</th>\n",
              "    </tr>\n",
              "  </thead>\n",
              "  <tbody>\n",
              "    <tr>\n",
              "      <th>count</th>\n",
              "      <td>1.030200e+04</td>\n",
              "      <td>10302.000000</td>\n",
              "      <td>10302.000000</td>\n",
              "      <td>10302.000000</td>\n",
              "      <td>10302.000000</td>\n",
              "      <td>10302.000000</td>\n",
              "      <td>10302.000000</td>\n",
              "      <td>10302.000000</td>\n",
              "      <td>10302.000000</td>\n",
              "      <td>10302.000000</td>\n",
              "      <td>10302.000000</td>\n",
              "      <td>10302.000000</td>\n",
              "      <td>10302.000000</td>\n",
              "    </tr>\n",
              "    <tr>\n",
              "      <th>mean</th>\n",
              "      <td>4.956631e+08</td>\n",
              "      <td>0.169288</td>\n",
              "      <td>44.837507</td>\n",
              "      <td>0.720443</td>\n",
              "      <td>10.502038</td>\n",
              "      <td>58165.348185</td>\n",
              "      <td>145898.408270</td>\n",
              "      <td>33.416424</td>\n",
              "      <td>5.329159</td>\n",
              "      <td>0.800718</td>\n",
              "      <td>1.710153</td>\n",
              "      <td>8.279654</td>\n",
              "      <td>0.266550</td>\n",
              "    </tr>\n",
              "    <tr>\n",
              "      <th>std</th>\n",
              "      <td>2.864675e+08</td>\n",
              "      <td>0.506512</td>\n",
              "      <td>8.603521</td>\n",
              "      <td>1.116323</td>\n",
              "      <td>3.999896</td>\n",
              "      <td>48225.877263</td>\n",
              "      <td>130447.224869</td>\n",
              "      <td>15.869687</td>\n",
              "      <td>4.110795</td>\n",
              "      <td>1.154079</td>\n",
              "      <td>2.159015</td>\n",
              "      <td>5.534838</td>\n",
              "      <td>0.442177</td>\n",
              "    </tr>\n",
              "    <tr>\n",
              "      <th>min</th>\n",
              "      <td>6.317500e+04</td>\n",
              "      <td>0.000000</td>\n",
              "      <td>16.000000</td>\n",
              "      <td>0.000000</td>\n",
              "      <td>0.000000</td>\n",
              "      <td>0.000000</td>\n",
              "      <td>0.000000</td>\n",
              "      <td>5.000000</td>\n",
              "      <td>1.000000</td>\n",
              "      <td>0.000000</td>\n",
              "      <td>0.000000</td>\n",
              "      <td>-3.000000</td>\n",
              "      <td>0.000000</td>\n",
              "    </tr>\n",
              "    <tr>\n",
              "      <th>25%</th>\n",
              "      <td>2.442869e+08</td>\n",
              "      <td>0.000000</td>\n",
              "      <td>39.000000</td>\n",
              "      <td>0.000000</td>\n",
              "      <td>9.000000</td>\n",
              "      <td>22655.000000</td>\n",
              "      <td>0.000000</td>\n",
              "      <td>22.000000</td>\n",
              "      <td>1.000000</td>\n",
              "      <td>0.000000</td>\n",
              "      <td>0.000000</td>\n",
              "      <td>3.000000</td>\n",
              "      <td>0.000000</td>\n",
              "    </tr>\n",
              "    <tr>\n",
              "      <th>50%</th>\n",
              "      <td>4.970043e+08</td>\n",
              "      <td>0.000000</td>\n",
              "      <td>45.000000</td>\n",
              "      <td>0.000000</td>\n",
              "      <td>11.000000</td>\n",
              "      <td>50539.500000</td>\n",
              "      <td>151286.000000</td>\n",
              "      <td>33.000000</td>\n",
              "      <td>4.000000</td>\n",
              "      <td>0.000000</td>\n",
              "      <td>1.000000</td>\n",
              "      <td>8.000000</td>\n",
              "      <td>0.000000</td>\n",
              "    </tr>\n",
              "    <tr>\n",
              "      <th>75%</th>\n",
              "      <td>7.394551e+08</td>\n",
              "      <td>0.000000</td>\n",
              "      <td>51.000000</td>\n",
              "      <td>1.000000</td>\n",
              "      <td>13.000000</td>\n",
              "      <td>83231.750000</td>\n",
              "      <td>233085.000000</td>\n",
              "      <td>44.000000</td>\n",
              "      <td>7.000000</td>\n",
              "      <td>2.000000</td>\n",
              "      <td>3.000000</td>\n",
              "      <td>12.000000</td>\n",
              "      <td>1.000000</td>\n",
              "    </tr>\n",
              "    <tr>\n",
              "      <th>max</th>\n",
              "      <td>9.999264e+08</td>\n",
              "      <td>4.000000</td>\n",
              "      <td>81.000000</td>\n",
              "      <td>5.000000</td>\n",
              "      <td>23.000000</td>\n",
              "      <td>367030.000000</td>\n",
              "      <td>885282.000000</td>\n",
              "      <td>142.000000</td>\n",
              "      <td>25.000000</td>\n",
              "      <td>5.000000</td>\n",
              "      <td>13.000000</td>\n",
              "      <td>28.000000</td>\n",
              "      <td>1.000000</td>\n",
              "    </tr>\n",
              "  </tbody>\n",
              "</table>\n",
              "</div>"
            ],
            "text/plain": [
              "                 ID      KIDSDRIV           AGE      HOMEKIDS           YOJ  \\\n",
              "count  1.030200e+04  10302.000000  10302.000000  10302.000000  10302.000000   \n",
              "mean   4.956631e+08      0.169288     44.837507      0.720443     10.502038   \n",
              "std    2.864675e+08      0.506512      8.603521      1.116323      3.999896   \n",
              "min    6.317500e+04      0.000000     16.000000      0.000000      0.000000   \n",
              "25%    2.442869e+08      0.000000     39.000000      0.000000      9.000000   \n",
              "50%    4.970043e+08      0.000000     45.000000      0.000000     11.000000   \n",
              "75%    7.394551e+08      0.000000     51.000000      1.000000     13.000000   \n",
              "max    9.999264e+08      4.000000     81.000000      5.000000     23.000000   \n",
              "\n",
              "              INCOME       HOME_VAL      TRAVTIME           TIF      CLM_FREQ  \\\n",
              "count   10302.000000   10302.000000  10302.000000  10302.000000  10302.000000   \n",
              "mean    58165.348185  145898.408270     33.416424      5.329159      0.800718   \n",
              "std     48225.877263  130447.224869     15.869687      4.110795      1.154079   \n",
              "min         0.000000       0.000000      5.000000      1.000000      0.000000   \n",
              "25%     22655.000000       0.000000     22.000000      1.000000      0.000000   \n",
              "50%     50539.500000  151286.000000     33.000000      4.000000      0.000000   \n",
              "75%     83231.750000  233085.000000     44.000000      7.000000      2.000000   \n",
              "max    367030.000000  885282.000000    142.000000     25.000000      5.000000   \n",
              "\n",
              "            MVR_PTS       CAR_AGE    CLAIM_FLAG  \n",
              "count  10302.000000  10302.000000  10302.000000  \n",
              "mean       1.710153      8.279654      0.266550  \n",
              "std        2.159015      5.534838      0.442177  \n",
              "min        0.000000     -3.000000      0.000000  \n",
              "25%        0.000000      3.000000      0.000000  \n",
              "50%        1.000000      8.000000      0.000000  \n",
              "75%        3.000000     12.000000      1.000000  \n",
              "max       13.000000     28.000000      1.000000  "
            ]
          },
          "execution_count": 11,
          "metadata": {},
          "output_type": "execute_result"
        }
      ],
      "source": [
        "#now we check the brief descriptive statistics\n",
        "data.describe()"
      ]
    },
    {
      "cell_type": "code",
      "execution_count": null,
      "metadata": {
        "id": "zTwEdY_SqJV1"
      },
      "outputs": [],
      "source": [
        "# Now we do hot one encoding on the categorical columns\n",
        "data = pd.get_dummies(data, drop_first=True)"
      ]
    },
    {
      "cell_type": "markdown",
      "metadata": {
        "id": "srwu9J2BqJV1"
      },
      "source": [
        "Using XGboost to improve the model performance"
      ]
    },
    {
      "cell_type": "code",
      "execution_count": null,
      "metadata": {
        "id": "bWLthY9OqJV2",
        "outputId": "09f6e848-afb8-47fc-c3b2-758a6c4555a7"
      },
      "outputs": [
        {
          "name": "stdout",
          "output_type": "stream",
          "text": [
            "Requirement already satisfied: xgboost in c:\\users\\bryan\\anaconda3\\lib\\site-packages (2.1.2)\n",
            "Requirement already satisfied: numpy in c:\\users\\bryan\\anaconda3\\lib\\site-packages (from xgboost) (1.26.4)\n",
            "Requirement already satisfied: scipy in c:\\users\\bryan\\anaconda3\\lib\\site-packages (from xgboost) (1.13.1)\n",
            "Note: you may need to restart the kernel to use updated packages.\n"
          ]
        }
      ],
      "source": [
        "pip install xgboost"
      ]
    },
    {
      "cell_type": "code",
      "execution_count": null,
      "metadata": {
        "id": "VYcfyC61qJV3"
      },
      "outputs": [],
      "source": [
        "#importing additional libraries required\n",
        "import xgboost as xgb\n",
        "from sklearn.metrics import confusion_matrix\n"
      ]
    },
    {
      "cell_type": "markdown",
      "metadata": {
        "id": "SHkNELIcqJV3"
      },
      "source": [
        "Splitting the Data"
      ]
    },
    {
      "cell_type": "code",
      "execution_count": null,
      "metadata": {
        "id": "WUgL04sVqJV3"
      },
      "outputs": [],
      "source": [
        "X = data.drop(['CLAIM_FLAG'], axis=1)  # Features\n",
        "y = data['CLAIM_FLAG']  # Target Variable"
      ]
    },
    {
      "cell_type": "code",
      "execution_count": null,
      "metadata": {
        "id": "n81rpaT7qJV4"
      },
      "outputs": [],
      "source": [
        "X_train, X_test,y_train, y_test= train_test_split(X,y,test_size=0.2,random_state=42,stratify=y)"
      ]
    },
    {
      "cell_type": "markdown",
      "metadata": {
        "id": "xxI_X8hyqJV4"
      },
      "source": [
        "Handling Imbalanced Data"
      ]
    },
    {
      "cell_type": "code",
      "execution_count": null,
      "metadata": {
        "id": "UGt54cZEqJV4"
      },
      "outputs": [],
      "source": [
        "# XGBoost offers two ways to handle class imbalance. I.e.\n",
        "# Adjusting: Set the ratio of the negative to positive class in the training set using 'scale_pos_weight'\n",
        "# Using SMOTE or other resampling techniques: You can over-sample the minority class before training\n",
        "\n",
        "scale_pos_weight = y_train.value_counts()[0] / y_train.value_counts()[1] # so I adjusted"
      ]
    },
    {
      "cell_type": "markdown",
      "metadata": {
        "id": "X2dmS9FLqJV5"
      },
      "source": [
        "Training the XGBoost Model"
      ]
    },
    {
      "cell_type": "code",
      "execution_count": null,
      "metadata": {
        "id": "68xmD-lZqJV5",
        "outputId": "a4d4239f-f784-4a57-8702-b60afdf92bdc"
      },
      "outputs": [
        {
          "name": "stderr",
          "output_type": "stream",
          "text": [
            "c:\\Users\\bryan\\anaconda3\\Lib\\site-packages\\xgboost\\core.py:158: UserWarning: [13:23:55] WARNING: C:\\buildkite-agent\\builds\\buildkite-windows-cpu-autoscaling-group-i-0ed59c031377d09b8-1\\xgboost\\xgboost-ci-windows\\src\\learner.cc:740: \n",
            "Parameters: { \"use_label_encoder\" } are not used.\n",
            "\n",
            "  warnings.warn(smsg, UserWarning)\n"
          ]
        },
        {
          "data": {
            "text/html": [
              "<style>#sk-container-id-1 {\n",
              "  /* Definition of color scheme common for light and dark mode */\n",
              "  --sklearn-color-text: black;\n",
              "  --sklearn-color-line: gray;\n",
              "  /* Definition of color scheme for unfitted estimators */\n",
              "  --sklearn-color-unfitted-level-0: #fff5e6;\n",
              "  --sklearn-color-unfitted-level-1: #f6e4d2;\n",
              "  --sklearn-color-unfitted-level-2: #ffe0b3;\n",
              "  --sklearn-color-unfitted-level-3: chocolate;\n",
              "  /* Definition of color scheme for fitted estimators */\n",
              "  --sklearn-color-fitted-level-0: #f0f8ff;\n",
              "  --sklearn-color-fitted-level-1: #d4ebff;\n",
              "  --sklearn-color-fitted-level-2: #b3dbfd;\n",
              "  --sklearn-color-fitted-level-3: cornflowerblue;\n",
              "\n",
              "  /* Specific color for light theme */\n",
              "  --sklearn-color-text-on-default-background: var(--sg-text-color, var(--theme-code-foreground, var(--jp-content-font-color1, black)));\n",
              "  --sklearn-color-background: var(--sg-background-color, var(--theme-background, var(--jp-layout-color0, white)));\n",
              "  --sklearn-color-border-box: var(--sg-text-color, var(--theme-code-foreground, var(--jp-content-font-color1, black)));\n",
              "  --sklearn-color-icon: #696969;\n",
              "\n",
              "  @media (prefers-color-scheme: dark) {\n",
              "    /* Redefinition of color scheme for dark theme */\n",
              "    --sklearn-color-text-on-default-background: var(--sg-text-color, var(--theme-code-foreground, var(--jp-content-font-color1, white)));\n",
              "    --sklearn-color-background: var(--sg-background-color, var(--theme-background, var(--jp-layout-color0, #111)));\n",
              "    --sklearn-color-border-box: var(--sg-text-color, var(--theme-code-foreground, var(--jp-content-font-color1, white)));\n",
              "    --sklearn-color-icon: #878787;\n",
              "  }\n",
              "}\n",
              "\n",
              "#sk-container-id-1 {\n",
              "  color: var(--sklearn-color-text);\n",
              "}\n",
              "\n",
              "#sk-container-id-1 pre {\n",
              "  padding: 0;\n",
              "}\n",
              "\n",
              "#sk-container-id-1 input.sk-hidden--visually {\n",
              "  border: 0;\n",
              "  clip: rect(1px 1px 1px 1px);\n",
              "  clip: rect(1px, 1px, 1px, 1px);\n",
              "  height: 1px;\n",
              "  margin: -1px;\n",
              "  overflow: hidden;\n",
              "  padding: 0;\n",
              "  position: absolute;\n",
              "  width: 1px;\n",
              "}\n",
              "\n",
              "#sk-container-id-1 div.sk-dashed-wrapped {\n",
              "  border: 1px dashed var(--sklearn-color-line);\n",
              "  margin: 0 0.4em 0.5em 0.4em;\n",
              "  box-sizing: border-box;\n",
              "  padding-bottom: 0.4em;\n",
              "  background-color: var(--sklearn-color-background);\n",
              "}\n",
              "\n",
              "#sk-container-id-1 div.sk-container {\n",
              "  /* jupyter's `normalize.less` sets `[hidden] { display: none; }`\n",
              "     but bootstrap.min.css set `[hidden] { display: none !important; }`\n",
              "     so we also need the `!important` here to be able to override the\n",
              "     default hidden behavior on the sphinx rendered scikit-learn.org.\n",
              "     See: https://github.com/scikit-learn/scikit-learn/issues/21755 */\n",
              "  display: inline-block !important;\n",
              "  position: relative;\n",
              "}\n",
              "\n",
              "#sk-container-id-1 div.sk-text-repr-fallback {\n",
              "  display: none;\n",
              "}\n",
              "\n",
              "div.sk-parallel-item,\n",
              "div.sk-serial,\n",
              "div.sk-item {\n",
              "  /* draw centered vertical line to link estimators */\n",
              "  background-image: linear-gradient(var(--sklearn-color-text-on-default-background), var(--sklearn-color-text-on-default-background));\n",
              "  background-size: 2px 100%;\n",
              "  background-repeat: no-repeat;\n",
              "  background-position: center center;\n",
              "}\n",
              "\n",
              "/* Parallel-specific style estimator block */\n",
              "\n",
              "#sk-container-id-1 div.sk-parallel-item::after {\n",
              "  content: \"\";\n",
              "  width: 100%;\n",
              "  border-bottom: 2px solid var(--sklearn-color-text-on-default-background);\n",
              "  flex-grow: 1;\n",
              "}\n",
              "\n",
              "#sk-container-id-1 div.sk-parallel {\n",
              "  display: flex;\n",
              "  align-items: stretch;\n",
              "  justify-content: center;\n",
              "  background-color: var(--sklearn-color-background);\n",
              "  position: relative;\n",
              "}\n",
              "\n",
              "#sk-container-id-1 div.sk-parallel-item {\n",
              "  display: flex;\n",
              "  flex-direction: column;\n",
              "}\n",
              "\n",
              "#sk-container-id-1 div.sk-parallel-item:first-child::after {\n",
              "  align-self: flex-end;\n",
              "  width: 50%;\n",
              "}\n",
              "\n",
              "#sk-container-id-1 div.sk-parallel-item:last-child::after {\n",
              "  align-self: flex-start;\n",
              "  width: 50%;\n",
              "}\n",
              "\n",
              "#sk-container-id-1 div.sk-parallel-item:only-child::after {\n",
              "  width: 0;\n",
              "}\n",
              "\n",
              "/* Serial-specific style estimator block */\n",
              "\n",
              "#sk-container-id-1 div.sk-serial {\n",
              "  display: flex;\n",
              "  flex-direction: column;\n",
              "  align-items: center;\n",
              "  background-color: var(--sklearn-color-background);\n",
              "  padding-right: 1em;\n",
              "  padding-left: 1em;\n",
              "}\n",
              "\n",
              "\n",
              "/* Toggleable style: style used for estimator/Pipeline/ColumnTransformer box that is\n",
              "clickable and can be expanded/collapsed.\n",
              "- Pipeline and ColumnTransformer use this feature and define the default style\n",
              "- Estimators will overwrite some part of the style using the `sk-estimator` class\n",
              "*/\n",
              "\n",
              "/* Pipeline and ColumnTransformer style (default) */\n",
              "\n",
              "#sk-container-id-1 div.sk-toggleable {\n",
              "  /* Default theme specific background. It is overwritten whether we have a\n",
              "  specific estimator or a Pipeline/ColumnTransformer */\n",
              "  background-color: var(--sklearn-color-background);\n",
              "}\n",
              "\n",
              "/* Toggleable label */\n",
              "#sk-container-id-1 label.sk-toggleable__label {\n",
              "  cursor: pointer;\n",
              "  display: block;\n",
              "  width: 100%;\n",
              "  margin-bottom: 0;\n",
              "  padding: 0.5em;\n",
              "  box-sizing: border-box;\n",
              "  text-align: center;\n",
              "}\n",
              "\n",
              "#sk-container-id-1 label.sk-toggleable__label-arrow:before {\n",
              "  /* Arrow on the left of the label */\n",
              "  content: \"▸\";\n",
              "  float: left;\n",
              "  margin-right: 0.25em;\n",
              "  color: var(--sklearn-color-icon);\n",
              "}\n",
              "\n",
              "#sk-container-id-1 label.sk-toggleable__label-arrow:hover:before {\n",
              "  color: var(--sklearn-color-text);\n",
              "}\n",
              "\n",
              "/* Toggleable content - dropdown */\n",
              "\n",
              "#sk-container-id-1 div.sk-toggleable__content {\n",
              "  max-height: 0;\n",
              "  max-width: 0;\n",
              "  overflow: hidden;\n",
              "  text-align: left;\n",
              "  /* unfitted */\n",
              "  background-color: var(--sklearn-color-unfitted-level-0);\n",
              "}\n",
              "\n",
              "#sk-container-id-1 div.sk-toggleable__content.fitted {\n",
              "  /* fitted */\n",
              "  background-color: var(--sklearn-color-fitted-level-0);\n",
              "}\n",
              "\n",
              "#sk-container-id-1 div.sk-toggleable__content pre {\n",
              "  margin: 0.2em;\n",
              "  border-radius: 0.25em;\n",
              "  color: var(--sklearn-color-text);\n",
              "  /* unfitted */\n",
              "  background-color: var(--sklearn-color-unfitted-level-0);\n",
              "}\n",
              "\n",
              "#sk-container-id-1 div.sk-toggleable__content.fitted pre {\n",
              "  /* unfitted */\n",
              "  background-color: var(--sklearn-color-fitted-level-0);\n",
              "}\n",
              "\n",
              "#sk-container-id-1 input.sk-toggleable__control:checked~div.sk-toggleable__content {\n",
              "  /* Expand drop-down */\n",
              "  max-height: 200px;\n",
              "  max-width: 100%;\n",
              "  overflow: auto;\n",
              "}\n",
              "\n",
              "#sk-container-id-1 input.sk-toggleable__control:checked~label.sk-toggleable__label-arrow:before {\n",
              "  content: \"▾\";\n",
              "}\n",
              "\n",
              "/* Pipeline/ColumnTransformer-specific style */\n",
              "\n",
              "#sk-container-id-1 div.sk-label input.sk-toggleable__control:checked~label.sk-toggleable__label {\n",
              "  color: var(--sklearn-color-text);\n",
              "  background-color: var(--sklearn-color-unfitted-level-2);\n",
              "}\n",
              "\n",
              "#sk-container-id-1 div.sk-label.fitted input.sk-toggleable__control:checked~label.sk-toggleable__label {\n",
              "  background-color: var(--sklearn-color-fitted-level-2);\n",
              "}\n",
              "\n",
              "/* Estimator-specific style */\n",
              "\n",
              "/* Colorize estimator box */\n",
              "#sk-container-id-1 div.sk-estimator input.sk-toggleable__control:checked~label.sk-toggleable__label {\n",
              "  /* unfitted */\n",
              "  background-color: var(--sklearn-color-unfitted-level-2);\n",
              "}\n",
              "\n",
              "#sk-container-id-1 div.sk-estimator.fitted input.sk-toggleable__control:checked~label.sk-toggleable__label {\n",
              "  /* fitted */\n",
              "  background-color: var(--sklearn-color-fitted-level-2);\n",
              "}\n",
              "\n",
              "#sk-container-id-1 div.sk-label label.sk-toggleable__label,\n",
              "#sk-container-id-1 div.sk-label label {\n",
              "  /* The background is the default theme color */\n",
              "  color: var(--sklearn-color-text-on-default-background);\n",
              "}\n",
              "\n",
              "/* On hover, darken the color of the background */\n",
              "#sk-container-id-1 div.sk-label:hover label.sk-toggleable__label {\n",
              "  color: var(--sklearn-color-text);\n",
              "  background-color: var(--sklearn-color-unfitted-level-2);\n",
              "}\n",
              "\n",
              "/* Label box, darken color on hover, fitted */\n",
              "#sk-container-id-1 div.sk-label.fitted:hover label.sk-toggleable__label.fitted {\n",
              "  color: var(--sklearn-color-text);\n",
              "  background-color: var(--sklearn-color-fitted-level-2);\n",
              "}\n",
              "\n",
              "/* Estimator label */\n",
              "\n",
              "#sk-container-id-1 div.sk-label label {\n",
              "  font-family: monospace;\n",
              "  font-weight: bold;\n",
              "  display: inline-block;\n",
              "  line-height: 1.2em;\n",
              "}\n",
              "\n",
              "#sk-container-id-1 div.sk-label-container {\n",
              "  text-align: center;\n",
              "}\n",
              "\n",
              "/* Estimator-specific */\n",
              "#sk-container-id-1 div.sk-estimator {\n",
              "  font-family: monospace;\n",
              "  border: 1px dotted var(--sklearn-color-border-box);\n",
              "  border-radius: 0.25em;\n",
              "  box-sizing: border-box;\n",
              "  margin-bottom: 0.5em;\n",
              "  /* unfitted */\n",
              "  background-color: var(--sklearn-color-unfitted-level-0);\n",
              "}\n",
              "\n",
              "#sk-container-id-1 div.sk-estimator.fitted {\n",
              "  /* fitted */\n",
              "  background-color: var(--sklearn-color-fitted-level-0);\n",
              "}\n",
              "\n",
              "/* on hover */\n",
              "#sk-container-id-1 div.sk-estimator:hover {\n",
              "  /* unfitted */\n",
              "  background-color: var(--sklearn-color-unfitted-level-2);\n",
              "}\n",
              "\n",
              "#sk-container-id-1 div.sk-estimator.fitted:hover {\n",
              "  /* fitted */\n",
              "  background-color: var(--sklearn-color-fitted-level-2);\n",
              "}\n",
              "\n",
              "/* Specification for estimator info (e.g. \"i\" and \"?\") */\n",
              "\n",
              "/* Common style for \"i\" and \"?\" */\n",
              "\n",
              ".sk-estimator-doc-link,\n",
              "a:link.sk-estimator-doc-link,\n",
              "a:visited.sk-estimator-doc-link {\n",
              "  float: right;\n",
              "  font-size: smaller;\n",
              "  line-height: 1em;\n",
              "  font-family: monospace;\n",
              "  background-color: var(--sklearn-color-background);\n",
              "  border-radius: 1em;\n",
              "  height: 1em;\n",
              "  width: 1em;\n",
              "  text-decoration: none !important;\n",
              "  margin-left: 1ex;\n",
              "  /* unfitted */\n",
              "  border: var(--sklearn-color-unfitted-level-1) 1pt solid;\n",
              "  color: var(--sklearn-color-unfitted-level-1);\n",
              "}\n",
              "\n",
              ".sk-estimator-doc-link.fitted,\n",
              "a:link.sk-estimator-doc-link.fitted,\n",
              "a:visited.sk-estimator-doc-link.fitted {\n",
              "  /* fitted */\n",
              "  border: var(--sklearn-color-fitted-level-1) 1pt solid;\n",
              "  color: var(--sklearn-color-fitted-level-1);\n",
              "}\n",
              "\n",
              "/* On hover */\n",
              "div.sk-estimator:hover .sk-estimator-doc-link:hover,\n",
              ".sk-estimator-doc-link:hover,\n",
              "div.sk-label-container:hover .sk-estimator-doc-link:hover,\n",
              ".sk-estimator-doc-link:hover {\n",
              "  /* unfitted */\n",
              "  background-color: var(--sklearn-color-unfitted-level-3);\n",
              "  color: var(--sklearn-color-background);\n",
              "  text-decoration: none;\n",
              "}\n",
              "\n",
              "div.sk-estimator.fitted:hover .sk-estimator-doc-link.fitted:hover,\n",
              ".sk-estimator-doc-link.fitted:hover,\n",
              "div.sk-label-container:hover .sk-estimator-doc-link.fitted:hover,\n",
              ".sk-estimator-doc-link.fitted:hover {\n",
              "  /* fitted */\n",
              "  background-color: var(--sklearn-color-fitted-level-3);\n",
              "  color: var(--sklearn-color-background);\n",
              "  text-decoration: none;\n",
              "}\n",
              "\n",
              "/* Span, style for the box shown on hovering the info icon */\n",
              ".sk-estimator-doc-link span {\n",
              "  display: none;\n",
              "  z-index: 9999;\n",
              "  position: relative;\n",
              "  font-weight: normal;\n",
              "  right: .2ex;\n",
              "  padding: .5ex;\n",
              "  margin: .5ex;\n",
              "  width: min-content;\n",
              "  min-width: 20ex;\n",
              "  max-width: 50ex;\n",
              "  color: var(--sklearn-color-text);\n",
              "  box-shadow: 2pt 2pt 4pt #999;\n",
              "  /* unfitted */\n",
              "  background: var(--sklearn-color-unfitted-level-0);\n",
              "  border: .5pt solid var(--sklearn-color-unfitted-level-3);\n",
              "}\n",
              "\n",
              ".sk-estimator-doc-link.fitted span {\n",
              "  /* fitted */\n",
              "  background: var(--sklearn-color-fitted-level-0);\n",
              "  border: var(--sklearn-color-fitted-level-3);\n",
              "}\n",
              "\n",
              ".sk-estimator-doc-link:hover span {\n",
              "  display: block;\n",
              "}\n",
              "\n",
              "/* \"?\"-specific style due to the `<a>` HTML tag */\n",
              "\n",
              "#sk-container-id-1 a.estimator_doc_link {\n",
              "  float: right;\n",
              "  font-size: 1rem;\n",
              "  line-height: 1em;\n",
              "  font-family: monospace;\n",
              "  background-color: var(--sklearn-color-background);\n",
              "  border-radius: 1rem;\n",
              "  height: 1rem;\n",
              "  width: 1rem;\n",
              "  text-decoration: none;\n",
              "  /* unfitted */\n",
              "  color: var(--sklearn-color-unfitted-level-1);\n",
              "  border: var(--sklearn-color-unfitted-level-1) 1pt solid;\n",
              "}\n",
              "\n",
              "#sk-container-id-1 a.estimator_doc_link.fitted {\n",
              "  /* fitted */\n",
              "  border: var(--sklearn-color-fitted-level-1) 1pt solid;\n",
              "  color: var(--sklearn-color-fitted-level-1);\n",
              "}\n",
              "\n",
              "/* On hover */\n",
              "#sk-container-id-1 a.estimator_doc_link:hover {\n",
              "  /* unfitted */\n",
              "  background-color: var(--sklearn-color-unfitted-level-3);\n",
              "  color: var(--sklearn-color-background);\n",
              "  text-decoration: none;\n",
              "}\n",
              "\n",
              "#sk-container-id-1 a.estimator_doc_link.fitted:hover {\n",
              "  /* fitted */\n",
              "  background-color: var(--sklearn-color-fitted-level-3);\n",
              "}\n",
              "</style><div id=\"sk-container-id-1\" class=\"sk-top-container\"><div class=\"sk-text-repr-fallback\"><pre>XGBClassifier(base_score=None, booster=None, callbacks=None,\n",
              "              colsample_bylevel=None, colsample_bynode=None,\n",
              "              colsample_bytree=None, device=None, early_stopping_rounds=None,\n",
              "              enable_categorical=False, eval_metric=&#x27;auc&#x27;, feature_types=None,\n",
              "              gamma=None, grow_policy=None, importance_type=None,\n",
              "              interaction_constraints=None, learning_rate=None, max_bin=None,\n",
              "              max_cat_threshold=None, max_cat_to_onehot=None,\n",
              "              max_delta_step=None, max_depth=None, max_leaves=None,\n",
              "              min_child_weight=None, missing=nan, monotone_constraints=None,\n",
              "              multi_strategy=None, n_estimators=None, n_jobs=None,\n",
              "              num_parallel_tree=None, random_state=42, ...)</pre><b>In a Jupyter environment, please rerun this cell to show the HTML representation or trust the notebook. <br />On GitHub, the HTML representation is unable to render, please try loading this page with nbviewer.org.</b></div><div class=\"sk-container\" hidden><div class=\"sk-item\"><div class=\"sk-estimator fitted sk-toggleable\"><input class=\"sk-toggleable__control sk-hidden--visually\" id=\"sk-estimator-id-1\" type=\"checkbox\" checked><label for=\"sk-estimator-id-1\" class=\"sk-toggleable__label fitted sk-toggleable__label-arrow fitted\">&nbsp;XGBClassifier<span class=\"sk-estimator-doc-link fitted\">i<span>Fitted</span></span></label><div class=\"sk-toggleable__content fitted\"><pre>XGBClassifier(base_score=None, booster=None, callbacks=None,\n",
              "              colsample_bylevel=None, colsample_bynode=None,\n",
              "              colsample_bytree=None, device=None, early_stopping_rounds=None,\n",
              "              enable_categorical=False, eval_metric=&#x27;auc&#x27;, feature_types=None,\n",
              "              gamma=None, grow_policy=None, importance_type=None,\n",
              "              interaction_constraints=None, learning_rate=None, max_bin=None,\n",
              "              max_cat_threshold=None, max_cat_to_onehot=None,\n",
              "              max_delta_step=None, max_depth=None, max_leaves=None,\n",
              "              min_child_weight=None, missing=nan, monotone_constraints=None,\n",
              "              multi_strategy=None, n_estimators=None, n_jobs=None,\n",
              "              num_parallel_tree=None, random_state=42, ...)</pre></div> </div></div></div></div>"
            ],
            "text/plain": [
              "XGBClassifier(base_score=None, booster=None, callbacks=None,\n",
              "              colsample_bylevel=None, colsample_bynode=None,\n",
              "              colsample_bytree=None, device=None, early_stopping_rounds=None,\n",
              "              enable_categorical=False, eval_metric='auc', feature_types=None,\n",
              "              gamma=None, grow_policy=None, importance_type=None,\n",
              "              interaction_constraints=None, learning_rate=None, max_bin=None,\n",
              "              max_cat_threshold=None, max_cat_to_onehot=None,\n",
              "              max_delta_step=None, max_depth=None, max_leaves=None,\n",
              "              min_child_weight=None, missing=nan, monotone_constraints=None,\n",
              "              multi_strategy=None, n_estimators=None, n_jobs=None,\n",
              "              num_parallel_tree=None, random_state=42, ...)"
            ]
          },
          "execution_count": 18,
          "metadata": {},
          "output_type": "execute_result"
        }
      ],
      "source": [
        "#training the xgboost adjusted model\n",
        "xgb_model=xgb.XGBClassifier(\n",
        "    objective= 'binary:logistic',\n",
        "    scale_pos_weight=scale_pos_weight,   #handles class imbalance\n",
        "    eval_metric='auc',                   #using AUC as the evaluation metric\n",
        "    use_label_encoder= False,            # used to avoid unnecessary warnings\n",
        "    random_state=42\n",
        ")\n",
        "#then train the model\n",
        "xgb_model.fit(X_train,y_train)"
      ]
    },
    {
      "cell_type": "markdown",
      "metadata": {
        "id": "Gnus56DlqJV6"
      },
      "source": [
        "Making the Predictions  "
      ]
    },
    {
      "cell_type": "code",
      "execution_count": null,
      "metadata": {
        "id": "9H8w5pA0qJV6"
      },
      "outputs": [],
      "source": [
        "#after training the dataset, now we do the predictions on the model\n",
        "y_pred_proba=xgb_model.predict_proba(X_test)[:,1]   #putting the Probability of CLAIM_FLAG = 1\n",
        "\n",
        "#then predicting the class labels\n",
        "y_pred=xgb_model.predict(X_test)"
      ]
    },
    {
      "cell_type": "markdown",
      "metadata": {
        "id": "ovmQMQmpqJV7"
      },
      "source": [
        "Model Evaluation"
      ]
    },
    {
      "cell_type": "code",
      "execution_count": null,
      "metadata": {
        "id": "wlNs501tqJV7",
        "outputId": "141d5010-0271-4bc8-8bb6-967974fa6e79"
      },
      "outputs": [
        {
          "name": "stdout",
          "output_type": "stream",
          "text": [
            "AUC-ROC: 0.8082853866096126\n"
          ]
        }
      ],
      "source": [
        "auc_score = roc_auc_score(y_test, y_pred_proba)\n",
        "print(f\"AUC-ROC: {auc_score}\")"
      ]
    },
    {
      "cell_type": "code",
      "execution_count": null,
      "metadata": {
        "id": "NhcetUNBqJV8",
        "outputId": "e3543899-5410-49ae-8510-8d81bfd0b4c3"
      },
      "outputs": [
        {
          "name": "stdout",
          "output_type": "stream",
          "text": [
            "              precision    recall  f1-score   support\n",
            "\n",
            "           0       0.87      0.76      0.81      1512\n",
            "           1       0.50      0.68      0.58       549\n",
            "\n",
            "    accuracy                           0.74      2061\n",
            "   macro avg       0.69      0.72      0.69      2061\n",
            "weighted avg       0.77      0.74      0.75      2061\n",
            "\n"
          ]
        }
      ],
      "source": [
        "#printing the classification report\n",
        "print(classification_report(y_test, y_pred))"
      ]
    },
    {
      "cell_type": "markdown",
      "metadata": {
        "id": "fbfVzBikqJV8"
      },
      "source": [
        "The Confusion Matrix"
      ]
    },
    {
      "cell_type": "code",
      "execution_count": null,
      "metadata": {
        "id": "5T3cdUNTqJV9",
        "outputId": "a7d9a326-113f-4f50-8b67-dc75ddb6de60"
      },
      "outputs": [
        {
          "data": {
            "text/plain": [
              "<sklearn.metrics._plot.confusion_matrix.ConfusionMatrixDisplay at 0x15cc5632930>"
            ]
          },
          "execution_count": 23,
          "metadata": {},
          "output_type": "execute_result"
        },
        {
          "data": {
            "image/png": "[encoded data removed]",
            "text/plain": [
              "<Figure size 640x480 with 2 Axes>"
            ]
          },
          "metadata": {},
          "output_type": "display_data"
        }
      ],
      "source": [
        "from sklearn.metrics import ConfusionMatrixDisplay\n",
        "\n",
        "ConfusionMatrixDisplay.from_predictions(y_test, y_pred)"
      ]
    },
    {
      "cell_type": "code",
      "execution_count": null,
      "metadata": {
        "id": "HCtT_icEqJV9"
      },
      "outputs": [],
      "source": [
        "Hyperparameter Tuning\n",
        "To improve model performance, tune hyperparameters using GridSearchCV or RandomizedSearchCV"
      ]
    },
    {
      "cell_type": "code",
      "execution_count": null,
      "metadata": {
        "id": "d5Aw2bV_qJV-",
        "outputId": "81b222bd-39de-469a-a280-2275e22e2fd6"
      },
      "outputs": [
        {
          "name": "stderr",
          "output_type": "stream",
          "text": [
            "c:\\Users\\bryan\\anaconda3\\Lib\\site-packages\\xgboost\\core.py:158: UserWarning: [18:16:38] WARNING: C:\\buildkite-agent\\builds\\buildkite-windows-cpu-autoscaling-group-i-0ed59c031377d09b8-1\\xgboost\\xgboost-ci-windows\\src\\learner.cc:740: \n",
            "Parameters: { \"use_label_encoder\" } are not used.\n",
            "\n",
            "  warnings.warn(smsg, UserWarning)\n"
          ]
        },
        {
          "name": "stdout",
          "output_type": "stream",
          "text": [
            "Best parameters: {'subsample': 1, 'scale_pos_weight': 2.751024123805189, 'n_estimators': 200, 'max_depth': 3, 'learning_rate': 0.1, 'colsample_bytree': 1}\n"
          ]
        }
      ],
      "source": [
        "from sklearn.model_selection import RandomizedSearchCV\n",
        "\n",
        "# Define the parameter grid\n",
        "param_grid = {\n",
        "    'n_estimators': [50, 100, 200],\n",
        "    'max_depth': [3, 5, 7],\n",
        "    'learning_rate': [0.01, 0.1, 0.2],\n",
        "    'subsample': [0.8, 1],\n",
        "    'colsample_bytree': [0.8, 1],\n",
        "    'scale_pos_weight': [scale_pos_weight]  # Use the calculated imbalance ratio\n",
        "}\n",
        "\n",
        "# Initialize the search\n",
        "random_search = RandomizedSearchCV(\n",
        "    estimator=xgb_model,\n",
        "    param_distributions=param_grid,\n",
        "    n_iter=50,\n",
        "    scoring='roc_auc',\n",
        "    cv=3,\n",
        "    random_state=42,\n",
        "    n_jobs=-1\n",
        ")\n",
        "\n",
        "# Perform the search\n",
        "random_search.fit(X_train, y_train)\n",
        "\n",
        "# Best parameters\n",
        "print(f\"Best parameters: {random_search.best_params_}\")\n",
        "\n",
        "# Use the best model\n",
        "best_xgb = random_search.best_estimator_"
      ]
    },
    {
      "cell_type": "markdown",
      "metadata": {
        "id": "-9c64THdqJV_"
      },
      "source": [
        "Generating Risk scores.(Probability for CLAIM_FLAG=1)"
      ]
    },
    {
      "cell_type": "code",
      "execution_count": null,
      "metadata": {
        "id": "T4UgeN1mqJV_"
      },
      "outputs": [],
      "source": [
        "\n",
        "X_test['Risk_Score']= best_xgb.predict_proba(X_test)"
      ]
    },
    {
      "cell_type": "code",
      "execution_count": null,
      "metadata": {
        "id": "UFCafRmJqJWA"
      },
      "outputs": [],
      "source": [
        "# combining the Risk_Score column to be part of the data DataFrame that includes the CLAIM_FLAG\n",
        "data.loc[X_test.index, 'Risk_Score'] = X_test['Risk_Score']"
      ]
    },
    {
      "cell_type": "code",
      "execution_count": null,
      "metadata": {
        "id": "kpnWHEj1qJWA",
        "outputId": "b782fe6f-7773-4d96-8e6f-65286c793d77"
      },
      "outputs": [
        {
          "name": "stdout",
          "output_type": "stream",
          "text": [
            "          ID  KIDSDRIV   AGE  HOMEKIDS   YOJ   INCOME  HOME_VAL  TRAVTIME  \\\n",
            "0   63581743         0  60.0         0  11.0  67349.0       0.0        14   \n",
            "1  132761049         0  43.0         0  11.0  91449.0  257252.0        22   \n",
            "2  921317019         0  48.0         0  11.0  52881.0       0.0        26   \n",
            "3  727598473         0  35.0         1  10.0  16039.0  124191.0         5   \n",
            "4  450221861         0  51.0         0  14.0      0.0  306251.0        32   \n",
            "\n",
            "   TIF  CLM_FREQ  ...  CLM_AMT_$960  CLM_AMT_$962  CLM_AMT_$966  CLM_AMT_$978  \\\n",
            "0   11         2  ...         False         False         False         False   \n",
            "1    1         0  ...         False         False         False         False   \n",
            "2    1         0  ...         False         False         False         False   \n",
            "3    4         2  ...         False         False         False         False   \n",
            "4    7         0  ...         False         False         False         False   \n",
            "\n",
            "   CLM_AMT_$979  CLM_AMT_$980  CLM_AMT_$984  CLM_AMT_$991  \\\n",
            "0         False         False         False         False   \n",
            "1         False         False         False         False   \n",
            "2         False         False         False         False   \n",
            "3         False         False         False         False   \n",
            "4         False         False         False         False   \n",
            "\n",
            "   URBANICITY_z_Highly Rural/ Rural  Risk_Score  \n",
            "0                             False         NaN  \n",
            "1                             False         NaN  \n",
            "2                             False         NaN  \n",
            "3                             False    0.632794  \n",
            "4                             False    0.196956  \n",
            "\n",
            "[5 rows x 15470 columns]\n"
          ]
        }
      ],
      "source": [
        "print(data.head())"
      ]
    },
    {
      "cell_type": "markdown",
      "metadata": {
        "id": "qDkU3zMwqJWA"
      },
      "source": [
        "Visualizing the Risk scores"
      ]
    },
    {
      "cell_type": "code",
      "execution_count": null,
      "metadata": {
        "id": "mi92X7nxqJWK",
        "outputId": "80212359-c669-4a52-e63a-69ba069ec28b"
      },
      "outputs": [
        {
          "data": {
            "image/png": "[encoded data removed]",
            "text/plain": [
              "<Figure size 640x480 with 1 Axes>"
            ]
          },
          "metadata": {},
          "output_type": "display_data"
        }
      ],
      "source": [
        "import seaborn as sns\n",
        "import matplotlib.pyplot as plt\n",
        "\n",
        "sns.histplot(X_test['Risk_Score'], bins=20, kde=True)\n",
        "plt.title('Risk Score Distribution')\n",
        "plt.xlabel('Risk Score')\n",
        "plt.ylabel('Frequency')\n",
        "plt.show()"
      ]
    },
    {
      "cell_type": "markdown",
      "metadata": {
        "id": "9QJp6XokqJWL"
      },
      "source": [
        "Saving the new dataset to csv"
      ]
    },
    {
      "cell_type": "code",
      "execution_count": null,
      "metadata": {
        "id": "shqHMuIaqJWL"
      },
      "outputs": [],
      "source": [
        "X_test.to_csv('xgboost_risk_scores.csv', index=False)"
      ]
    },
    {
      "cell_type": "code",
      "execution_count": null,
      "metadata": {
        "id": "XCJ-_dogqJWM"
      },
      "outputs": [],
      "source": [
        "data['Risk_Score'] = risk_scores.values"
      ]
    },
    {
      "cell_type": "code",
      "execution_count": null,
      "metadata": {
        "id": "c2Pk1MG-qJWM",
        "outputId": "1388b1bf-cc4d-4907-f614-9102f9f5ae90"
      },
      "outputs": [
        {
          "data": {
            "image/png": "[encoded data removed]",
            "text/plain": [
              "<Figure size 640x480 with 1 Axes>"
            ]
          },
          "metadata": {},
          "output_type": "display_data"
        }
      ],
      "source": [
        "import seaborn as sns\n",
        "sns.boxplot(x='CLAIM_FLAG', y='Risk_Score', data=data)\n",
        "plt.title('Risk Scores by CLAIM_FLAG')\n",
        "plt.show()"
      ]
    },
    {
      "cell_type": "markdown",
      "metadata": {
        "id": "0PsYy7u0qJWN"
      },
      "source": [
        "to check how well the predicted probabilities (risk scores) align with actual probabilities of claims. I used the calibration curve"
      ]
    },
    {
      "cell_type": "code",
      "execution_count": null,
      "metadata": {
        "id": "JAGldWuCqJWO",
        "outputId": "2128c554-b7fe-428c-fbc3-02aa5ecaaf1e"
      },
      "outputs": [
        {
          "data": {
            "image/png": "[encoded data removed]",
            "text/plain": [
              "<Figure size 640x480 with 1 Axes>"
            ]
          },
          "metadata": {},
          "output_type": "display_data"
        }
      ],
      "source": [
        "from sklearn.calibration import calibration_curve\n",
        "import matplotlib.pyplot as plt\n",
        "\n",
        "prob_true, prob_pred = calibration_curve(y_test, y_pred_proba, n_bins=10)\n",
        "\n",
        "plt.plot(prob_pred, prob_true, marker='o')\n",
        "plt.plot([0, 1], [0, 1], linestyle='--', color='gray')  # Perfect calibration\n",
        "plt.title('Calibration Curve')\n",
        "plt.xlabel('Predicted Probability')\n",
        "plt.ylabel('True Probability')\n",
        "plt.show()"
      ]
    },
    {
      "cell_type": "markdown",
      "metadata": {
        "id": "MidsOhT9qJWO"
      },
      "source": [
        "MODEL DEVELOPMENT   \n",
        "1. Initial Approach with Random Forest\n",
        " Random Forest is an ensemble learning technique that is robust to overfitting, handles missing data, and captures non-linear relationships well. It was chosen as an initial model due to its interpretability and ability to work well with tabular data.\n",
        " Despite its strengths, Random Forest struggled with imbalanced data, where there were far fewer claims (minority class) compared to non-claims (majority class). The model predicted the majority class well but underperformed for the minority class (claims), as seen in metrics:\n",
        "Precision for claims: 0.82\n",
        "Recall for claims: 0.08\n",
        "AUC-ROC score: 0.79\n",
        "\n",
        "2. Improvement with XGBoost\n",
        "XGBoost (Extreme Gradient Boosting) is a more advanced machine learning algorithm known for its efficiency and performance on complex datasets. It includes techniques like weighted learning to handle class imbalance better.\n",
        "Results After Tuning:\n",
        "Overall accuracy: 74%\n",
        "Precision for claims: 50%\n",
        "Recall for claims: 68%\n",
        "AUC-ROC score: 0.81\n",
        "\n",
        "Key takeaway: While the precision for claims decreased slightly, recall improved significantly, meaning the model became much better at identifying actual claims. This was a meaningful improvement, as identifying claims is critical for risk management.\n"
      ]
    },
    {
      "cell_type": "markdown",
      "metadata": {
        "id": "_S3_R_ZoqJWP"
      },
      "source": [
        "Risk Scores\n",
        "The model predicted probabilities (risk scores) for each policyholder, representing their likelihood of making a claim. Higher scores indicate higher risks. These scores were visualized and compared with the actual claim outcomes.\n",
        "A calibration curve was created to evaluate how well the predicted probabilities matched the actual likelihood of claims.\n",
        "\n",
        "Results:\n",
        "The curve showed that the model’s predictions were generally well-aligned with reality, especially at higher probabilities.\n",
        "Interpretation for the business: A well-calibrated model ensures that a policyholder with a predicted claim probability of 70% truly has a 70% chance of making a claim, enabling reliable decision-making.\n"
      ]
    },
    {
      "cell_type": "markdown",
      "metadata": {
        "id": "VvGKD03MqJWQ"
      },
      "source": [
        "BUSINESS IMPLICATIONS\n",
        "\n",
        "1. Fair Pricing: Using the risk scores, the company can set premiums more accurately, ensuring fairness by charging higher-risk customers higher premiums while rewarding low-risk customers with discounts.\n",
        "\n",
        "2. Proactive Risk Management: High-risk policyholders can be flagged for interventions, such as additional safety measures or targeted communication to mitigate potential claims.\n",
        "\n",
        "3. Increased Profitability: By better predicting claims, the company can minimize losses and improve profitability."
      ]
    }
  ],
  "metadata": {
    "kernelspec": {
      "display_name": "base",
      "language": "python",
      "name": "python3"
    },
    "language_info": {
      "codemirror_mode": {
        "name": "ipython",
        "version": 3
      },
      "file_extension": ".py",
      "mimetype": "text/x-python",
      "name": "python",
      "nbconvert_exporter": "python",
      "pygments_lexer": "ipython3",
      "version": "3.12.4"
    },
    "colab": {
      "provenance": [],
      "include_colab_link": true
    }
  },
  "nbformat": 4,
  "nbformat_minor": 0
}