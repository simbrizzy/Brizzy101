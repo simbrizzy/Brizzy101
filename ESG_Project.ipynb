{
  "cells": [
    {
      "cell_type": "markdown",
      "metadata": {
        "id": "view-in-github",
        "colab_type": "text"
      },
      "source": [
        "<a href=\"https://colab.research.google.com/github/simbrizzy/Brizzy101/blob/master/ESG_Project.ipynb\" target=\"_parent\"><img src=\"https://colab.research.google.com/assets/colab-badge.svg\" alt=\"Open In Colab\"/></a>"
      ]
    },
    {
      "cell_type": "code",
      "execution_count": null,
      "id": "293fc463-80c4-4a89-9d9d-04e735fb2f2d",
      "metadata": {
        "id": "293fc463-80c4-4a89-9d9d-04e735fb2f2d"
      },
      "outputs": [],
      "source": [
        "# This is a mini project done to do sentiment analysis on the ESG topic by extracting tweets from Twitter. First, I was required to\n",
        "#create a Twitter developer account so that I could access the APIs and be able to collect data\n",
        "#so we begin by installing and importing the necessary packages\n",
        "#tweepy: For accessing Twitter’s API and collecting tweets.\n",
        "#pandas: used for data manipulation and analysis.\n",
        "#nltk: Natural Language Toolkit, useful for text processing and cleaning.\n",
        "#textblob: used for simple sentiment analysis and text processing.\n",
        "#matplotlib and seaborn: used for data visualization."
      ]
    },
    {
      "cell_type": "code",
      "execution_count": null,
      "id": "5900d30f-2e68-49bb-8621-cdf534df1045",
      "metadata": {
        "id": "5900d30f-2e68-49bb-8621-cdf534df1045",
        "outputId": "026ad537-3d28-4a7c-c2f6-d9a5a303f8c4"
      },
      "outputs": [
        {
          "name": "stdout",
          "output_type": "stream",
          "text": [
            "Requirement already satisfied: tweepy in c:\\users\\bryan\\anaconda3\\lib\\site-packages (4.14.0)\n",
            "Requirement already satisfied: pandas in c:\\users\\bryan\\anaconda3\\lib\\site-packages (2.2.2)\n",
            "Requirement already satisfied: nltk in c:\\users\\bryan\\anaconda3\\lib\\site-packages (3.8.1)\n",
            "Requirement already satisfied: textblob in c:\\users\\bryan\\anaconda3\\lib\\site-packages (0.18.0.post0)\n",
            "Requirement already satisfied: matplotlib in c:\\users\\bryan\\anaconda3\\lib\\site-packages (3.8.4)\n",
            "Requirement already satisfied: seaborn in c:\\users\\bryan\\anaconda3\\lib\\site-packages (0.13.2)\n",
            "Requirement already satisfied: oauthlib<4,>=3.2.0 in c:\\users\\bryan\\anaconda3\\lib\\site-packages (from tweepy) (3.2.2)\n",
            "Requirement already satisfied: requests<3,>=2.27.0 in c:\\users\\bryan\\anaconda3\\lib\\site-packages (from tweepy) (2.32.2)\n",
            "Requirement already satisfied: requests-oauthlib<2,>=1.2.0 in c:\\users\\bryan\\anaconda3\\lib\\site-packages (from tweepy) (1.3.1)\n",
            "Requirement already satisfied: numpy>=1.26.0 in c:\\users\\bryan\\anaconda3\\lib\\site-packages (from pandas) (1.26.4)\n",
            "Requirement already satisfied: python-dateutil>=2.8.2 in c:\\users\\bryan\\anaconda3\\lib\\site-packages (from pandas) (2.9.0.post0)\n",
            "Requirement already satisfied: pytz>=2020.1 in c:\\users\\bryan\\anaconda3\\lib\\site-packages (from pandas) (2024.1)\n",
            "Requirement already satisfied: tzdata>=2022.7 in c:\\users\\bryan\\anaconda3\\lib\\site-packages (from pandas) (2023.3)\n",
            "Requirement already satisfied: click in c:\\users\\bryan\\anaconda3\\lib\\site-packages (from nltk) (8.1.7)\n",
            "Requirement already satisfied: joblib in c:\\users\\bryan\\anaconda3\\lib\\site-packages (from nltk) (1.4.2)\n",
            "Requirement already satisfied: regex>=2021.8.3 in c:\\users\\bryan\\anaconda3\\lib\\site-packages (from nltk) (2023.10.3)\n",
            "Requirement already satisfied: tqdm in c:\\users\\bryan\\anaconda3\\lib\\site-packages (from nltk) (4.66.4)\n",
            "Requirement already satisfied: contourpy>=1.0.1 in c:\\users\\bryan\\anaconda3\\lib\\site-packages (from matplotlib) (1.2.0)\n",
            "Requirement already satisfied: cycler>=0.10 in c:\\users\\bryan\\anaconda3\\lib\\site-packages (from matplotlib) (0.11.0)\n",
            "Requirement already satisfied: fonttools>=4.22.0 in c:\\users\\bryan\\anaconda3\\lib\\site-packages (from matplotlib) (4.51.0)\n",
            "Requirement already satisfied: kiwisolver>=1.3.1 in c:\\users\\bryan\\anaconda3\\lib\\site-packages (from matplotlib) (1.4.4)\n",
            "Requirement already satisfied: packaging>=20.0 in c:\\users\\bryan\\anaconda3\\lib\\site-packages (from matplotlib) (23.2)\n",
            "Requirement already satisfied: pillow>=8 in c:\\users\\bryan\\anaconda3\\lib\\site-packages (from matplotlib) (10.3.0)\n",
            "Requirement already satisfied: pyparsing>=2.3.1 in c:\\users\\bryan\\anaconda3\\lib\\site-packages (from matplotlib) (3.0.9)\n",
            "Requirement already satisfied: six>=1.5 in c:\\users\\bryan\\anaconda3\\lib\\site-packages (from python-dateutil>=2.8.2->pandas) (1.16.0)\n",
            "Requirement already satisfied: charset-normalizer<4,>=2 in c:\\users\\bryan\\anaconda3\\lib\\site-packages (from requests<3,>=2.27.0->tweepy) (2.0.4)\n",
            "Requirement already satisfied: idna<4,>=2.5 in c:\\users\\bryan\\anaconda3\\lib\\site-packages (from requests<3,>=2.27.0->tweepy) (3.7)\n",
            "Requirement already satisfied: urllib3<3,>=1.21.1 in c:\\users\\bryan\\anaconda3\\lib\\site-packages (from requests<3,>=2.27.0->tweepy) (2.2.2)\n",
            "Requirement already satisfied: certifi>=2017.4.17 in c:\\users\\bryan\\anaconda3\\lib\\site-packages (from requests<3,>=2.27.0->tweepy) (2024.8.30)\n",
            "Requirement already satisfied: colorama in c:\\users\\bryan\\anaconda3\\lib\\site-packages (from click->nltk) (0.4.6)\n"
          ]
        }
      ],
      "source": [
        "!pip install tweepy pandas nltk textblob matplotlib seaborn"
      ]
    },
    {
      "cell_type": "code",
      "execution_count": null,
      "id": "6a8656e9-9ef3-4f9b-a356-b35755872d6a",
      "metadata": {
        "id": "6a8656e9-9ef3-4f9b-a356-b35755872d6a"
      },
      "outputs": [],
      "source": [
        "#Now we import al the packages\n",
        "import tweepy\n",
        "import pandas as pd\n",
        "import re\n",
        "from textblob import TextBlob\n",
        "import matplotlib.pyplot as plt\n",
        "import seaborn as sns"
      ]
    },
    {
      "cell_type": "code",
      "execution_count": null,
      "id": "a32a313d-d867-4ad2-a4b1-4b1fe73fc024",
      "metadata": {
        "id": "a32a313d-d867-4ad2-a4b1-4b1fe73fc024"
      },
      "outputs": [],
      "source": [
        "#The next step is to authenticate my developer account and be able to connect to it\n",
        "#below are my API credentials\n",
        "Consumer_key='lEt4clCuOANbLr0XSegk7n6MS'\n",
        "Consumer_secret='cwmfNNeYZEqIRSP5cJ1Uso1R56sS7EY7Ck5s1D1rNxlQ3V9y5C'\n",
        "Access_token='753682609-i0K8jSvsnQmLdoi4j5S16bn5VQLSTIoLasY2tcCp'\n",
        "Access_token_secret='oi82yTf7srHD90D3Zek82iA6w5UFrN0qiLAGFfPFCzYyx'\n",
        "\n",
        "#the below lines of code are used for authentication with twitter\n",
        "auth =tweepy.OAuthHandler(Consumer_key, Consumer_secret)\n",
        "auth.set_access_token(Access_token, Access_token_secret)\n",
        "\n",
        "#Now we define the api object\n",
        "api = tweepy.API(auth, wait_on_rate_limit=True)\n"
      ]
    },
    {
      "cell_type": "code",
      "execution_count": null,
      "id": "b358f158-bd33-47ec-91ee-ee7d05e021da",
      "metadata": {
        "id": "b358f158-bd33-47ec-91ee-ee7d05e021da",
        "outputId": "f12eb2e6-cb9e-4205-ee5e-ada7beac4354"
      },
      "outputs": [
        {
          "name": "stdout",
          "output_type": "stream",
          "text": [
            "Authentication OK\n"
          ]
        }
      ],
      "source": [
        "#testing if the authentication was successfull\n",
        "try:\n",
        "    user =api.verify_credentials()\n",
        "    print(\"Authentication OK\")\n",
        "except Exception as e:\n",
        "    print(\"Error during authentication:\", e)"
      ]
    },
    {
      "cell_type": "code",
      "execution_count": null,
      "id": "40d2ca5f-218f-49e3-bcbe-3c0e66181b89",
      "metadata": {
        "id": "40d2ca5f-218f-49e3-bcbe-3c0e66181b89",
        "outputId": "73a4d764-6d28-434f-9ed7-2ff8d11868c6"
      },
      "outputs": [
        {
          "name": "stdout",
          "output_type": "stream",
          "text": [
            "Requirement already satisfied: tweepy in c:\\users\\bryan\\anaconda3\\lib\\site-packages (4.14.0)\n",
            "Requirement already satisfied: oauthlib<4,>=3.2.0 in c:\\users\\bryan\\anaconda3\\lib\\site-packages (from tweepy) (3.2.2)\n",
            "Requirement already satisfied: requests<3,>=2.27.0 in c:\\users\\bryan\\anaconda3\\lib\\site-packages (from tweepy) (2.32.2)\n",
            "Requirement already satisfied: requests-oauthlib<2,>=1.2.0 in c:\\users\\bryan\\anaconda3\\lib\\site-packages (from tweepy) (1.3.1)\n",
            "Requirement already satisfied: charset-normalizer<4,>=2 in c:\\users\\bryan\\anaconda3\\lib\\site-packages (from requests<3,>=2.27.0->tweepy) (2.0.4)\n",
            "Requirement already satisfied: idna<4,>=2.5 in c:\\users\\bryan\\anaconda3\\lib\\site-packages (from requests<3,>=2.27.0->tweepy) (3.7)\n",
            "Requirement already satisfied: urllib3<3,>=1.21.1 in c:\\users\\bryan\\anaconda3\\lib\\site-packages (from requests<3,>=2.27.0->tweepy) (2.2.2)\n",
            "Requirement already satisfied: certifi>=2017.4.17 in c:\\users\\bryan\\anaconda3\\lib\\site-packages (from requests<3,>=2.27.0->tweepy) (2024.8.30)\n"
          ]
        }
      ],
      "source": [
        "#Now that the authentication is ok, we can go ahead and extract five tweets and see the results\n",
        "# but because I am using a limited access version, I’ll need to update the code for fetching tweets to work with v2 endpoints. This\n",
        "#requires using the search_recent_tweets() function from tweepy, as search_tweets() is a v1.1 function and might be restricted for Free access accounts.\n",
        "#therefore I proceed to use the code below\n",
        "!pip install --upgrade tweepy\n",
        "bearer_token = 'AAAAAAAAAAAAAAAAAAAAACKzwwEAAAAAwE0c8zATyGIyfm%2FCvsGnYVpkbQQ%3DEvoMip7sDJUleYIFu3Edpsea3k2mxYVKWXbRLaPTP0wef70xHj'\n",
        "# Then I initilize the twitter API client v2\n",
        "client = tweepy.Client(bearer_token=bearer_token, wait_on_rate_limit=True)"
      ]
    },
    {
      "cell_type": "code",
      "execution_count": null,
      "id": "1c847674-aae2-4071-84ed-9bd0a10c7a9a",
      "metadata": {
        "scrolled": true,
        "id": "1c847674-aae2-4071-84ed-9bd0a10c7a9a",
        "outputId": "e2164f2d-8ff3-47d7-a336-5d4b9ed3b522"
      },
      "outputs": [
        {
          "name": "stdout",
          "output_type": "stream",
          "text": [
            "Tweet by 1283588570792497153 at 2024-11-12 19:55:12+00:00: 🚨Livestream!!!🚨\n",
            "\n",
            "Prince Harry, Duke of Sussex named on the list of Time 100 Climate Change Leaders of 2024!\n",
            "\n",
            "Link: https://t.co/AfZPhpjzh8\n",
            "\n",
            "#PrinceHarry #DukeofSussex #SussexSquad #Time100 #SharionSade #KingCharles #PrinceAndrew #KateMiddleton @TIME https://t.co/HF8p0fzWdf\n",
            "Tweet by 4297133723 at 2024-11-12 19:55:12+00:00: RT @cPenCoreTeam: 📢 #cPenNetwork Halving Event Update\n",
            "\n",
            "The mining base rate has been adjusted to 0.19375 $pen per hour as we continue to gr…\n",
            "Tweet by 1198284446153236485 at 2024-11-12 19:55:02+00:00: @DrRosena Dr Rosena, have you considered climate change might be increasing faster due to the sheer number of bombs being thrown on Gaza? When is Starmer going to bow to the electorate to stop the genocide rather than bowing to the rogue state raining bombs on #Gaza\n",
            "Tweet by 1691499066 at 2024-11-12 19:55:01+00:00: Look at this news article from The Daily Caller: Energy Giant Wins Appeal In Landmark Lawsuit Blaming Company For Climate Change https://t.co/x0w2pjbzyN\n",
            "Tweet by 1275034244532834306 at 2024-11-12 19:54:58+00:00: The geoengineering above Cheshire, UK was horrendous today. Remember guys, this is climate change happening in front of your eyes, don’t let officials and media fool you. Climate change is an industry now and it’s making big money so the scam has to continue #geoengineering https://t.co/n2LCl4UQl9\n",
            "Tweet by 1268251872260915207 at 2024-11-12 19:54:57+00:00: @DrTedros Opportunities  created by fascist government of #azerbaijan Climate change really?  Climate change really? #cop29 https://t.co/aOkeFURLNM\n",
            "Tweet by 1404805590627594260 at 2024-11-12 19:54:57+00:00: She holds many cards to contribute to cut further emissions from EU economic activity, this is the systemic change EU citizens would need to hear about and discuss. It's not as if we had too much time to decarbonise the EU industry and anticipate future climate shocks (2/2)\n",
            "Tweet by 1337082993190400001 at 2024-11-12 19:54:56+00:00: RT @TapTools: WHY WE CHOSE TO BUILD ON CARDANO OVER ETHEREUM AND SOLANA 🛠️\n",
            "\n",
            "Foundation: Cardano's research-first approach resonated with us…\n",
            "Tweet by 1273094475292835841 at 2024-11-12 19:54:45+00:00: ESGは、企業が取り組むべき責任ある経営の指針として注目されており、企業価値向上やリスク管理につながるとされています。\n",
            "Tweet by 374676445 at 2024-11-12 19:54:45+00:00: @Channel4News Climate change is a load of nonsense pushed by those who want the green new scam.\n",
            "Tweet by 88296066 at 2024-11-12 19:54:42+00:00: RT @TapTools: WHY WE CHOSE TO BUILD ON CARDANO OVER ETHEREUM AND SOLANA 🛠️\n",
            "\n",
            "Foundation: Cardano's research-first approach resonated with us…\n",
            "Tweet by 1544725157293555713 at 2024-11-12 19:54:39+00:00: @AgBioWorld @skepticalraptor Don’t waste time reading this article. It has no new information and is just a typical leftist screed about “muh climate change” and “muh fauci”\n",
            "Tweet by 48494546 at 2024-11-12 19:54:39+00:00: @antonioguterres Dear oh dear you KNOW it is just a criminal scam to blame CO2 for climate change and yet you persist?\n",
            "Tweet by 1339628503801733121 at 2024-11-12 19:54:33+00:00: #COP29  Diary of a sustainable education advocate \n",
            "SOAMS Creative Activity Based, Low Cost, No Cost Sustainable Education initiative it's exciting to observe the following in schools:\n",
            "Environmental Awareness\n",
            "Behavioral Change\n",
            "Climate Literacy\n",
            "Sustainable Practices\n",
            "Keep it up 👍\n",
            "Tweet by 1650794237275848704 at 2024-11-12 19:54:19+00:00: @JamesMelville Why are they having a climate change conference and denouncing fossil fuels in Baku a city that is prosperous purely because of fossil fuels\n",
            "\n",
            "Surely to set a better example it should be held in places which have been able to succeed without fossil fuels\n",
            "Tweet by 1168309148 at 2024-11-12 19:54:18+00:00: @leighbeadon @mACABreb0b It’s perfect because it’s not even them being willing to shaft trans people as a sacrifice to the electorate, the polling contrasted *only* support for trans people against “rather than helping the middle class”. You could do that on anything from abortion to climate change.\n",
            "Tweet by 1518736523239337990 at 2024-11-12 19:54:16+00:00: Climate change is a global challenge. Bangladesh has answers. https://t.co/DsqNSKYZwL\n",
            "Tweet by 1270117947483271172 at 2024-11-12 19:54:11+00:00: RT @iaragb: Enquanto o mundo descola da pauta ESG, o Brasil alimenta a pauta para manter a estrutura financeira dos consultores‼️ https://t…\n",
            "Tweet by 1667758953869246465 at 2024-11-12 19:54:10+00:00: @SpeakerJohnson @leezeldin 4th graders understand climate change. Why is it that only Republicans in the U.S. Congress can't or won't? #BigOil pays them to deny it.\n",
            "Tweet by 1375869896375087105 at 2024-11-12 19:54:08+00:00: RT @TapTools: WHY WE CHOSE TO BUILD ON CARDANO OVER ETHEREUM AND SOLANA 🛠️\n",
            "\n",
            "Foundation: Cardano's research-first approach resonated with us…\n",
            "Tweet by 1651624273943961602 at 2024-11-12 19:54:06+00:00: RT @IsraelMFA: A productive day at the Israeli Pavilion at @COP29_AZ with Israel’s Minister of Environmental Protection @iditsilman, Israel…\n",
            "Tweet by 1835014983878373376 at 2024-11-12 19:53:55+00:00: @UnityNewsNet They know climate change is a scam - they think we are complete idiots.\n",
            "Tweet by 1840793427929415683 at 2024-11-12 19:53:50+00:00: SGP - Sui Guard protection is a project on the Sui blockchain that focuses on strengthening the ecosystem by managing digital assets to increase growth, liquidity and sustainability. https://t.co/3cjx4Or2WD\n",
            "Tweet by 1520032489040920577 at 2024-11-12 19:53:48+00:00: @BlondeOatmeal It won’t matter, Blackrock and Vanguard are major shareholders and they have a vested interest in ESG\n",
            "Tweet by 1585945026030362625 at 2024-11-12 19:53:44+00:00: @gidget642 @merlin_pen @shollins77 @JustinTrudeau If we dont bring carbon down climate change will destroy the food supply  in more ways than carbon tax.  Decrease supply,  increase demand will increase food prices substantially.\n",
            "Tweet by 388820481 at 2024-11-12 19:53:42+00:00: RT @Nairametrics: Lagos govt to concession Red and Blue Line rails for sustainability, loan repayment  -  https://t.co/32vkg8Jf9F https://t…\n",
            "Tweet by 1221672519910019073 at 2024-11-12 19:53:36+00:00: @elonmusk Correcting climate change here on Earth would be a better and less deficit-exacerbating use of space.\n",
            "Tweet by 1401302523810619393 at 2024-11-12 19:53:31+00:00: RT @TapTools: WHY WE CHOSE TO BUILD ON CARDANO OVER ETHEREUM AND SOLANA 🛠️\n",
            "\n",
            "Foundation: Cardano's research-first approach resonated with us…\n",
            "Tweet by 23767242 at 2024-11-12 19:53:29+00:00: @realRick_AUS The government runs a DNA database comprising of Covid PCR tests and new born heal prick tests.\n",
            "Bill gates wants government support to force all cattle in Australia to be vaccinated.\n",
            "Climate change is Scam used to control.\n",
            "There are zero genders and two sexes male and female.\n",
            "Tweet by 1207691725868806144 at 2024-11-12 19:53:18+00:00: Bringing advanced engineering and technology solutions to the most significant challenges in science, security, and sustainability. #WeAreAmentum #Engineering #Innovation #Technology\n",
            "\n",
            "Learn more: https://t.co/usVNYwl0tf https://t.co/iz1iCpJfpv\n",
            "Tweet by 1820841483345514497 at 2024-11-12 19:53:17+00:00: @TiffMoodNukes They did all that, PLUS they threatened to jail people who doubted the 2020 election results, don't believe in climate change and didn't want the COVID vaccine!\n",
            "Tweet by 768269312 at 2024-11-12 19:53:10+00:00: @J1SYx @freddiemills7 I'm a 1 unit guy. I don't think if you genuinely bet multiple units on every play you'll have any sustainability. Same goes for parlays\n",
            "Tweet by 777892431148752896 at 2024-11-12 19:53:00+00:00: RT @YPinfo101: @bjportraits Another excellent piece by Mothers Grim.\n",
            "\n",
            "To add, Coca-Cola are Founding Members of the Partnership for Global…\n",
            "Tweet by 1322917746 at 2024-11-12 19:52:58+00:00: #TheShift\n",
            "\"In Mwea, we've recently encountered an increase in snails and rats, likely due to climate change. To address this, we’re launching a program to process the snails for use as animal feed, particularly for chickens.\"\n",
            "~Dr Kipronoh Ronoh, PS Agriculture\n",
            "^PMN https://t.co/pRChG179Mt\n",
            "Tweet by 3904513693 at 2024-11-12 19:52:52+00:00: RT @FAONewYork: Africa hosts a wealth of native crops that offer both nutritional benefits and sustainability.\n",
            "\n",
            "It's time to rediscover Afr…\n",
            "Tweet by 1062033653084098561 at 2024-11-12 19:52:51+00:00: @AliPatClanrye I'll need them thanks to climate change.\n",
            "Tweet by 1536467920431218690 at 2024-11-12 19:52:50+00:00: @AdiZonga @JamesMelville I’ve never known a time in the history of the UK when a government has imposed such restrictions on us other than ww2 food rationing &amp; hose pipe ban during 1976 draught (both fully justified) There is more to this than climate change else why isn’t the whole planet enforcing it?\n",
            "Tweet by 812725506269396992 at 2024-11-12 19:52:47+00:00: RT @TapTools: WHY WE CHOSE TO BUILD ON CARDANO OVER ETHEREUM AND SOLANA 🛠️\n",
            "\n",
            "Foundation: Cardano's research-first approach resonated with us…\n",
            "Tweet by 566301561 at 2024-11-12 19:52:44+00:00: #TheShift\n",
            "\"In Mwea, we've recently encountered an increase in snails and rats, likely due to climate change. To address this, we’re launching a program to process the snails for use as animal feed, particularly for chickens.\"\n",
            "~Dr Kipronoh Ronoh, PS Agriculture\n",
            "^PMN https://t.co/kltrC4Fx9J\n",
            "Tweet by 1523935682896482305 at 2024-11-12 19:52:44+00:00: RT @Kigali_IFC: Last week, we held the final validation workshop for the Rwanda Green Taxonomy targeting climate change mitigation and adap…\n",
            "Tweet by 1605988122185330688 at 2024-11-12 19:52:43+00:00: @NewstalkZB We need to drop everything to do with the UN &amp; the climate change scam\n",
            "Tweet by 1169024439935275008 at 2024-11-12 19:52:42+00:00: Securing future of pork production requires collaboration among pig farmers, researchers &amp; public — especially younger generation says @GHGGuru. \n",
            "\n",
            "CA Swine Day emphasized importance of shared efforts to drive swine sustainability that benefit producers, consumers &amp; planet. 🌍 🐷 https://t.co/vwlvtdjj8h\n",
            "Tweet by 3304082192 at 2024-11-12 19:52:39+00:00: RT @PantheonResour1: Watch Executive Chairman David Hobbs as he discusses Pantheon’s projects on Sky News! Learn about our Alaska propertie…\n",
            "Tweet by 1118580005464834049 at 2024-11-12 19:52:39+00:00: Congratulations to Dr. Hugo Gutierrez-Jurado on receiving @NSF funding to investigate how drought, heat waves, and soil health impact water and carbon cycles at nearby pecan orchards and in the Chihuahuan Desert region. Learn more: https://t.co/DKlmLIelWK https://t.co/wyGMFuiwRI\n",
            "Tweet by 342078861 at 2024-11-12 19:52:23+00:00: Green Transition a meeting of deliberations on the climate, environment hazard, climate change and a transition from fossils to green energy in Azerbaijan #COP29  on @YouTube\n",
            "https://t.co/YifxteidPx\n",
            "Tweet by 3265503763 at 2024-11-12 19:52:18+00:00: RT @DELMIAWorks: This @PlasticsNews article examines how AI is transforming plastics manufacturing by optimizing workflows, reducing waste…\n",
            "Tweet by 743445601 at 2024-11-12 19:52:18+00:00: Ethiopia is experiencing significant positive changes not only in terms of climate action but also in terms of the reflection of this issue in the legal framework. We are taking important steps to deal with the effects of climate change. @TayeAtske @POEthiopia\n",
            "Tweet by 1855804386200420352 at 2024-11-12 19:52:16+00:00: RT @TapTools: WHY WE CHOSE TO BUILD ON CARDANO OVER ETHEREUM AND SOLANA 🛠️\n",
            "\n",
            "Foundation: Cardano's research-first approach resonated with us…\n",
            "Tweet by 1805562504812412930 at 2024-11-12 19:52:16+00:00: #COP29 \n",
            "\n",
            "Maybe Aliyev thinks the bubonic plague is also a \"gift from God\". That killed 50 million people and climate change is likely to kill just as many or more! \n",
            "\n",
            "Fck-all to do with his country's oil-export dependent economy I suppose!\n",
            "\n",
            "Fcking hypocrite. https://t.co/UhiX6YpJhr\n",
            "Tweet by 1441774080210857984 at 2024-11-12 19:52:16+00:00: @zoltanspox @PM_ViktorOrban @COP29_AZ What climate change???\n",
            "\n",
            "CLIMATE CHANGE IS A HOAX!!!\n",
            "Tweet by 891270806 at 2024-11-12 19:52:10+00:00: @dave_hegan @LynAdamson1 Well, we’re now going to be stepping back from the plate on climate change, so your vote for Trump will screw us on that. And I guess none of those neighbors you helped were pregnant women experiencing problems.\n",
            "Tweet by 3936383776 at 2024-11-12 19:52:09+00:00: GENETICALLY MODIFIED ORGANISM \n",
            "\"With climate change and a growing population, there is a need to change our approach in the future and adopt GMOs.\"\n",
            "Dr Kipronoh Rono, PS Agriculture\n",
            "#TheShift https://t.co/9CYxGXJuUJ\n",
            "Tweet by 1670844527676997656 at 2024-11-12 19:52:07+00:00: @Huberton I can’t wait for government to get its foot off the neck of small businesses! We can have good common sense regulations that keep our environment clean and safe without being idiot disciples of the climate change gods.\n",
            "Tweet by 1374619002069250048 at 2024-11-12 19:52:03+00:00: RT @icipe: 🌳🐜 icipe remains rooted in environmental sustainability and insect science. \n",
            "\n",
            "Under the leadership of Dr. Abdou Tenkouano, Direc…\n",
            "Tweet by 1461977356042657797 at 2024-11-12 19:52:03+00:00: RT @IsraelMFA: A productive day at the Israeli Pavilion at @COP29_AZ with Israel’s Minister of Environmental Protection @iditsilman, Israel…\n",
            "Tweet by 1047909154973782016 at 2024-11-12 19:51:50+00:00: RT @Righteousness71: Travalyst(“travel” and “catalyst”),a Nonprofit provides people booking Travel w/Emissions &amp;other Sustainability Data s…\n",
            "Tweet by 2418163506 at 2024-11-12 19:51:49+00:00: Seems Lula just dropped sustainability from the second to the third place priority for @g20org Brazil summit. Due to progress at COP 29? Or adjusting in advance to Trump? @g20rg @maddlin @brittaneywarren @UNFCCC @IRENA\n",
            "Tweet by 1371471577729077251 at 2024-11-12 19:51:47+00:00: RT @TapTools: WHY WE CHOSE TO BUILD ON CARDANO OVER ETHEREUM AND SOLANA 🛠️\n",
            "\n",
            "Foundation: Cardano's research-first approach resonated with us…\n",
            "Tweet by 2755895445 at 2024-11-12 19:51:46+00:00: @elonmusk Well @elonmusk , how much success have you had arguing with climate change deniers? Her point is obviously to find any common ground that allows forward progress rather than sitting in a stalemate.\n",
            "Tweet by 963718839769812992 at 2024-11-12 19:51:43+00:00: @SkyNews Hilarious! How in the world can he say such a thing at the United Nations Climate Change Conference?\n",
            "\n",
            "Well, the awful truth is God’s gift is killing us so how about we keep it in the ground\n",
            "Tweet by 1686480524095713280 at 2024-11-12 19:51:41+00:00: Santiago de Cali November 12 2024. Oscar Fredy Posso Vitali. The Climate Change Crisis is The Theme in The Moment. Really The Venues of Extreme Weather Climate of Nature Character, are The Farest Under Control by The Hands of The Man. The Human Hands Could Generate Artificial https://t.co/6t5iLseEnD\n",
            "Tweet by 622426905 at 2024-11-12 19:51:38+00:00: From upholding Euro-Atlantic security to tackling climate change, the UK and #Iceland are working together for a safer, greener &amp; more prosperous future.\n",
            " \n",
            "Met with @thordiskolbrun to discuss deepening 🇬🇧🇮🇸 collaboration on security &amp; climate action, and our support for Ukraine. https://t.co/cHQGVDmOCB\n",
            "Tweet by 1201484280389464066 at 2024-11-12 19:51:35+00:00: US President-elect Donald Trump has proposed to withdraw from the Paris Agreement on Climate Change in his second term. Here’s a useful thread on possible Trump policy shifts around climate that will impact US emissions, research, oceans policy and international action. https://t.co/PDB0uEnugA\n",
            "Tweet by 1840431354409779200 at 2024-11-12 19:51:33+00:00: @MBDan7 They did nothing because they wanted to blame it on climate change\n",
            "Tweet by 1785707952306876416 at 2024-11-12 19:51:31+00:00: RT @Defimark7: ➠ Why is this essential for crypto? Gas Gain exemplifies how #blockchain can evolve beyond traditional incentive models, emp…\n",
            "Tweet by 820746024033591300 at 2024-11-12 19:51:30+00:00: RT @FAWales: This week is #WalesClimateWeek 💚\n",
            "\n",
            "A new documentary ‘Cambrian United’ shows how clubs are adopting sustainability initiatives…\n",
            "Tweet by 1854884975923150853 at 2024-11-12 19:51:28+00:00: @the_logic tHiS iS DuE tO cLiMaTe ChAngE https://t.co/ikChslfrEA\n",
            "Tweet by 2312140428 at 2024-11-12 19:51:24+00:00: Senior Editor Kathryn Greene chats with Robert and Gian from #UTCSprings to discuss their latest advancements and commitment to sustainability. Check out the full-length video at https://t.co/wvvvC7WTgR\n",
            "\n",
            "@ispasleep #ispaexpo #MattressIndustry #Innovation  #Sustainability\n",
            "Tweet by 1347719214 at 2024-11-12 19:51:21+00:00: RT @Indigoag: We’re expanding our partnership with @GROWMARK. Partnering since 2021, we're now bringing our CLIPS device to their co-ops, m…\n",
            "Tweet by 248697646 at 2024-11-12 19:51:19+00:00: THE SHIFT:\n",
            "\"Indigenous crop varieties are resilient to climate change and can withstand challenges like diseases that are often difficult for farmers to address.\"\n",
            "-Dr Kipronoh Ronoh, PS Agriculture\n",
            "#KBCniYetu^EM https://t.co/3Iramnr45w\n",
            "Tweet by 564269780 at 2024-11-12 19:51:10+00:00: @5149jamesli One would think they would want to trumpet the real numbers, especially if they are trying to boost the climate-change causation narrative.\n",
            "Tweet by 3257153995 at 2024-11-12 19:51:08+00:00: @JerasIkehorn Yes. Europeans are so much further advanced when it comes to rail and bus systems, climate change, myriad other policies.\n",
            "Tweet by 885671476627521536 at 2024-11-12 19:51:00+00:00: Funny how climate change 'solutions' always involve more taxes and restrictions for us, while elites keep flying private jets. If they really cared, they’d start by practicing what they preach.\n",
            "Tweet by 1802409753257062400 at 2024-11-12 19:50:58+00:00: RT @Abdulgafar3310: 🌟 Solidus #AITECH is revolutionizing the AI-as-a-Service (#AIaaS ) landscape with a focus on scalability, sustainabilit…\n",
            "Tweet by 1818012445799288832 at 2024-11-12 19:50:55+00:00: But the sea is also under threat from human activities, with pollution, overfishing, and climate change wreaking havoc on its ecosystems\n",
            "Tweet by 1750047618930188289 at 2024-11-12 19:50:53+00:00: RT @CIMMYT: See our latest story here: The increasing frequency of drought challenges agriculture sustainability and livelihood of smallhol…\n",
            "Tweet by 1454851569237860355 at 2024-11-12 19:50:53+00:00: RT @TapTools: WHY WE CHOSE TO BUILD ON CARDANO OVER ETHEREUM AND SOLANA 🛠️\n",
            "\n",
            "Foundation: Cardano's research-first approach resonated with us…\n",
            "Tweet by 20700071 at 2024-11-12 19:50:53+00:00: @GBNEWS such a major policy change should have been communicated composers\n",
            "ent before minor foreign leaders and climate activists. A debate on net zero is also long overdue\n",
            "Tweet by 1640701630214438913 at 2024-11-12 19:50:52+00:00: If Elon and Joe Rogan open the long banned topic of climate change for discussion that INCLUDES all the exiled scientists who were slandered and ostracized because they do not conform to the Chicken Little fear mongering of the Progressive Globalists. Their NWO will REALLY be on… https://t.co/Vx8VrXDwSF\n",
            "Tweet by 1044844792126033925 at 2024-11-12 19:50:46+00:00: Green investment is a moral obligation – and an industrial opportunity https://t.co/gaFaOtjiGQ\n",
            "Tweet by 16312769 at 2024-11-12 19:50:45+00:00: PODCAST: Fayah's Flame: Ayo Abiola on Redefining Eco-Friendly Streetwear and Performance Apparel: https://t.co/kmsi1XTePo | #ecofriendly #sustainability #athleticwear #streetwear #businesspodcast #EPN\n",
            "Tweet by 1265068317183746048 at 2024-11-12 19:50:39+00:00: @J0EYNFT @mdsoll315 He is helping the MM’s to get rid of weak hands😂😎He suppressed d delivery numbers because he gave 2000 cars 2 transfer world delegates who came to attend COP29 Climate Change conference in BAKU Azerbaijan🇦🇿William Li doesn’t care about anybody b/c #XiJinping will sell #NIO cars https://t.co/qQmuoOtXsX\n",
            "Tweet by 52533879 at 2024-11-12 19:50:33+00:00: \"With help from Project 2025, Trump will stall all attempts to avert the climate crisis, accelerating a catastrophe that we have only a few years to prevent.\"\n",
            "\n",
            "Mayıs ayından bir Bill McKibben makalesi: https://t.co/lw1PGtDsVW\n",
            "Tweet by 3936383776 at 2024-11-12 19:50:32+00:00: SHIFTING FROM FOOD IMPORTS TO PRODUCTION \n",
            "\n",
            "Agriculture PS Rono : Indigenous variety of crops are resilient to climate change. With climate change and the growing population, there is need to shift our game in future and go GMO way.\n",
            "\n",
            "#TheShift \n",
            "#KBCniYetu https://t.co/NozdAJpMFM\n",
            "Tweet by 1506524883932618754 at 2024-11-12 19:50:31+00:00: RT @Obol_Collective: Points programs are short term games. 📉\n",
            "\n",
            "It’s time to introduce a new meta to crypto.\n",
            "Finally, a rewards program that…\n",
            "Tweet by 2875343562 at 2024-11-12 19:50:27+00:00: I would never say I could fight a polar bear straight up but ngl climate change might go hard enough for me to beat one🤔\n",
            "Tweet by 964047792665702400 at 2024-11-12 19:50:25+00:00: @MEXC_Official What are the environmental considerations or sustainability measures associated with the Ferrari SF90 Stradale, given its hybrid nature?\n",
            "Tweet by 1824387341542363139 at 2024-11-12 19:50:25+00:00: It's hilarious that preppers are so right wing that they can't talk about climate change. the sort of disaster they spend their whole lives salivating over\n",
            "Tweet by 2427654635 at 2024-11-12 19:50:20+00:00: When the United States stops exporting liquefied natural gas (LNG) in the next few years due to its own increased needs, Western countries will queue up ahead of Moscow for Russian gas, Serbian President  Vučić told leaders at the UN Climate Change Conference (COP-29) in Baku.\n",
            "Tweet by 327099795 at 2024-11-12 19:50:18+00:00: @ABDanielleSmith How much longer are you going to facilitate this load of 💩 about a production cut ? It is an EMMISSIONS CAP NOT a production cut. Production can increase , it must simply be within the maximum allowable EMMISSIONS. For all those who don't believe it, climate change is VERY  REAL\n",
            "Tweet by 1486777331352055824 at 2024-11-12 19:50:17+00:00: WHY WE CHOSE TO BUILD ON CARDANO OVER ETHEREUM AND SOLANA 🛠️\n",
            "\n",
            "Foundation: Cardano's research-first approach resonated with us. With over 100 academic papers, its foundation is peer-reviewed, ensuring robustness and long-term viability.  \n",
            "\n",
            "Sustainability: Cardano's Proof-of-Stake… https://t.co/Vw35xfqRec\n",
            "Tweet by 1779575182882947074 at 2024-11-12 19:50:17+00:00: @isabeller0ss @LauraLoomer @GovRonDeSantis I think she underestimates the importance of bringing Italy onboard to squelch the abuses of the European Union. EU nations are facing the same problems we have with invasion by forced \"immigration\" and embracing the climate change scam. Italy's Prime Minister is fighting the EU.\n",
            "Tweet by 1640701630214438913 at 2024-11-12 19:50:15+00:00: If Elon and Joe Rogan open the long banned topic of climate change for discussion that INCLUDES all the exiled scientists who were slandered and ostracized because they do not conform to the Chicken Little fear mongering of the Progressive Globalists their NWO will REALLY be on… https://t.co/YjkiYvM7PG\n",
            "Tweet by 1393977498803875861 at 2024-11-12 19:50:11+00:00: RT @HBAR_foundation: #COP29 @Hedera #ReFi Forum 🇦🇿\n",
            "\n",
            "Tomorrow we’re hosting a session on the #Hedera Guardian and enhancing #ESG reporting w…\n",
            "Tweet by 1444015461742612495 at 2024-11-12 19:50:05+00:00: Looking for a compelling course to take in the winter term? Check out this exciting offering that examines how cities can foster justice while fighting climate change: https://t.co/r6MHV4pWnX #utsc #utscsoc #sociology #climatechange https://t.co/jsFdp01io7\n",
            "Tweet by 19498421 at 2024-11-12 19:50:00+00:00: Here’s a reality check on how current progress matches up to crucial 2030 targets:\n",
            "Renewables, Tech, Deforestation, EVs, Biodiversity, Fashion, Emissions, Airlines, Banks\n",
            "\n",
            "https://t.co/KQ2hWnRr4Q\n",
            "Tweet by 44916473 at 2024-11-12 19:49:58+00:00: RT @mickkellygrows: We won.. ! @GoodFoodIreland Sustainability Award @giyireland @Grow_HQ https://t.co/GhqfP61269\n",
            "Tweet by 1185286753265115136 at 2024-11-12 19:49:57+00:00: This movie is about climate change \n",
            "\n",
            "Bidens \"most significant climate bill ever\" is giving away millions of acres for drilling. He doubled tariffs on Chinese green energy we don't have the infrastructure to make. Harris had no climate policy other than \"I will not ban fracking\" https://t.co/6Z8BXjUJxh\n",
            "Tweet by 14559745 at 2024-11-12 19:49:57+00:00: How can countries strengthen their climate commitments?\n",
            "\n",
            "On day two of #COP29Baku, @davidwaskow, Director of the International Climate Initiative at WRI, explains.\n",
            "\n",
            "Get the latest updates on COP29 https://t.co/COS1gb6hWg\n",
            "\n",
            "#COP29 #ClimateAction #COP29Azerbaijan #ClimateChange https://t.co/ESGxTG3k7H\n",
            "Tweet by 1702708850183327744 at 2024-11-12 19:49:52+00:00: @VividProwess Nest week they will be at a climate change rally\n"
          ]
        }
      ],
      "source": [
        "query = \"ESG OR sustainability OR climate change -is:retweet lang:en\" # Searches for tweets containing \"ESG,\" \"sustainability,\" or \"climate change\" while excluding retweets (-is:retweet).\n",
        "tweets = client.search_recent_tweets(query=query, max_results=100, tweet_fields=['created_at', 'text', 'author_id']) # this code extracts 100 tweets\n",
        "\n",
        "# Displaying the tweets we use\n",
        "for tweet in tweets.data:\n",
        "    print(f\"Tweet by {tweet.author_id} at {tweet.created_at}: {tweet.text}\")"
      ]
    },
    {
      "cell_type": "code",
      "execution_count": null,
      "id": "19bbd1c2-f34e-488e-9009-4a38904d282d",
      "metadata": {
        "id": "19bbd1c2-f34e-488e-9009-4a38904d282d",
        "outputId": "19b26edd-4d18-43ba-8e61-52cf16dc71df"
      },
      "outputs": [
        {
          "name": "stdout",
          "output_type": "stream",
          "text": [
            "             author_id                created_at  \\\n",
            "0  1283588570792497153 2024-11-12 19:55:12+00:00   \n",
            "1           4297133723 2024-11-12 19:55:12+00:00   \n",
            "2  1198284446153236485 2024-11-12 19:55:02+00:00   \n",
            "3           1691499066 2024-11-12 19:55:01+00:00   \n",
            "4  1275034244532834306 2024-11-12 19:54:58+00:00   \n",
            "\n",
            "                                                text  \n",
            "0  🚨Livestream!!!🚨\\n\\nPrince Harry, Duke of Susse...  \n",
            "1  RT @cPenCoreTeam: 📢 #cPenNetwork Halving Event...  \n",
            "2  @DrRosena Dr Rosena, have you considered clima...  \n",
            "3  Look at this news article from The Daily Calle...  \n",
            "4  The geoengineering above Cheshire, UK was horr...  \n"
          ]
        }
      ],
      "source": [
        "\n",
        "# Assuming `tweets` is the response data from Twitter API\n",
        "tweet_data = []\n",
        "for tweet in tweets.data:\n",
        "    tweet_data.append({\n",
        "        'author_id': tweet.author_id,\n",
        "        'created_at': tweet.created_at,\n",
        "        'text': tweet.text\n",
        "    })\n",
        "\n",
        "# Create DataFrame with the relevant columns\n",
        "df = pd.DataFrame(tweet_data, columns=['author_id', 'created_at', 'text'])\n",
        "print(df.head())"
      ]
    },
    {
      "cell_type": "code",
      "execution_count": null,
      "id": "8c09f458-4bf9-493d-b809-b8566d97ee95",
      "metadata": {
        "id": "8c09f458-4bf9-493d-b809-b8566d97ee95"
      },
      "outputs": [],
      "source": [
        "#Data Pre-processing\n",
        "#Now we clean the text by removing URLs, mentions, hashtags, and other unnecessary parts.\n",
        "def clean_text(text):\n",
        "    text = re.sub(r'http\\S+', '', text)  # Removes URLs\n",
        "    text = re.sub(r'@\\w+', '', text)     # Removes mentions\n",
        "    text = re.sub(r'#', '', text)        # Removes hashtag symbol\n",
        "    text = re.sub(r'\\n', ' ', text)      # Removes new lines\n",
        "    text = re.sub(r'[^a-zA-Z\\s]', '', text)  # Removes non-alphanumeric characters\n",
        "    return text"
      ]
    },
    {
      "cell_type": "code",
      "execution_count": null,
      "id": "3ba54a6a-3f6e-4a59-b04e-9e878e8232a1",
      "metadata": {
        "id": "3ba54a6a-3f6e-4a59-b04e-9e878e8232a1",
        "outputId": "d74aa590-75c8-42e3-fa8b-abbd401eccc2"
      },
      "outputs": [
        {
          "data": {
            "text/html": [
              "<div>\n",
              "<style scoped>\n",
              "    .dataframe tbody tr th:only-of-type {\n",
              "        vertical-align: middle;\n",
              "    }\n",
              "\n",
              "    .dataframe tbody tr th {\n",
              "        vertical-align: top;\n",
              "    }\n",
              "\n",
              "    .dataframe thead th {\n",
              "        text-align: right;\n",
              "    }\n",
              "</style>\n",
              "<table border=\"1\" class=\"dataframe\">\n",
              "  <thead>\n",
              "    <tr style=\"text-align: right;\">\n",
              "      <th></th>\n",
              "      <th>author_id</th>\n",
              "      <th>created_at</th>\n",
              "      <th>text</th>\n",
              "      <th>Cleaned_text</th>\n",
              "    </tr>\n",
              "  </thead>\n",
              "  <tbody>\n",
              "    <tr>\n",
              "      <th>0</th>\n",
              "      <td>1283588570792497153</td>\n",
              "      <td>2024-11-12 19:55:12+00:00</td>\n",
              "      <td>🚨Livestream!!!🚨\\n\\nPrince Harry, Duke of Susse...</td>\n",
              "      <td>Livestream  Prince Harry Duke of Sussex named ...</td>\n",
              "    </tr>\n",
              "    <tr>\n",
              "      <th>1</th>\n",
              "      <td>4297133723</td>\n",
              "      <td>2024-11-12 19:55:12+00:00</td>\n",
              "      <td>RT @cPenCoreTeam: 📢 #cPenNetwork Halving Event...</td>\n",
              "      <td>RT   cPenNetwork Halving Event Update  The min...</td>\n",
              "    </tr>\n",
              "    <tr>\n",
              "      <th>2</th>\n",
              "      <td>1198284446153236485</td>\n",
              "      <td>2024-11-12 19:55:02+00:00</td>\n",
              "      <td>@DrRosena Dr Rosena, have you considered clima...</td>\n",
              "      <td>Dr Rosena have you considered climate change ...</td>\n",
              "    </tr>\n",
              "    <tr>\n",
              "      <th>3</th>\n",
              "      <td>1691499066</td>\n",
              "      <td>2024-11-12 19:55:01+00:00</td>\n",
              "      <td>Look at this news article from The Daily Calle...</td>\n",
              "      <td>Look at this news article from The Daily Calle...</td>\n",
              "    </tr>\n",
              "    <tr>\n",
              "      <th>4</th>\n",
              "      <td>1275034244532834306</td>\n",
              "      <td>2024-11-12 19:54:58+00:00</td>\n",
              "      <td>The geoengineering above Cheshire, UK was horr...</td>\n",
              "      <td>The geoengineering above Cheshire UK was horre...</td>\n",
              "    </tr>\n",
              "  </tbody>\n",
              "</table>\n",
              "</div>"
            ],
            "text/plain": [
              "             author_id                created_at  \\\n",
              "0  1283588570792497153 2024-11-12 19:55:12+00:00   \n",
              "1           4297133723 2024-11-12 19:55:12+00:00   \n",
              "2  1198284446153236485 2024-11-12 19:55:02+00:00   \n",
              "3           1691499066 2024-11-12 19:55:01+00:00   \n",
              "4  1275034244532834306 2024-11-12 19:54:58+00:00   \n",
              "\n",
              "                                                text  \\\n",
              "0  🚨Livestream!!!🚨\\n\\nPrince Harry, Duke of Susse...   \n",
              "1  RT @cPenCoreTeam: 📢 #cPenNetwork Halving Event...   \n",
              "2  @DrRosena Dr Rosena, have you considered clima...   \n",
              "3  Look at this news article from The Daily Calle...   \n",
              "4  The geoengineering above Cheshire, UK was horr...   \n",
              "\n",
              "                                        Cleaned_text  \n",
              "0  Livestream  Prince Harry Duke of Sussex named ...  \n",
              "1  RT   cPenNetwork Halving Event Update  The min...  \n",
              "2   Dr Rosena have you considered climate change ...  \n",
              "3  Look at this news article from The Daily Calle...  \n",
              "4  The geoengineering above Cheshire UK was horre...  "
            ]
          },
          "execution_count": 73,
          "metadata": {},
          "output_type": "execute_result"
        }
      ],
      "source": [
        "df['Cleaned_text']=df['text'].apply(clean_text)\n",
        "df.head()"
      ]
    },
    {
      "cell_type": "code",
      "execution_count": null,
      "id": "aa859c5c-bd61-4be7-9a63-9bda8b7d44f1",
      "metadata": {
        "id": "aa859c5c-bd61-4be7-9a63-9bda8b7d44f1",
        "outputId": "2e244127-ef82-48d0-c5fb-c02cfcb0b708"
      },
      "outputs": [
        {
          "data": {
            "text/plain": [
              "sentiment\n",
              "neutral     40\n",
              "positive    35\n",
              "negative    25\n",
              "Name: count, dtype: int64"
            ]
          },
          "execution_count": 79,
          "metadata": {},
          "output_type": "execute_result"
        }
      ],
      "source": [
        "#Now that the text is cleaned, we use TextBlob to analyze sentiment polarity (where values range from -1 to 1\n",
        "# Calculating sentiment polarity\n",
        "df['polarity']=df['Cleaned_text'].apply(lambda x: TextBlob(x).sentiment.polarity)\n",
        "# Labeling sentiments as positive, neutral, or negative\n",
        "df['sentiment'] = df['polarity'].apply(lambda x: 'positive' if x > 0 else ('negative' if x < 0 else 'neutral'))\n",
        "# let us show the sentiment distribution using the code below\n",
        "df['sentiment'].value_counts()\n"
      ]
    },
    {
      "cell_type": "code",
      "execution_count": null,
      "id": "af49c8cd-610d-4ca4-aa7a-3cbc1a5931e8",
      "metadata": {
        "id": "af49c8cd-610d-4ca4-aa7a-3cbc1a5931e8",
        "outputId": "9ab534ba-d10a-45bb-da2d-0384d2abf380"
      },
      "outputs": [
        {
          "name": "stderr",
          "output_type": "stream",
          "text": [
            "C:\\Users\\bryan\\AppData\\Local\\Temp\\ipykernel_8908\\3314454408.py:3: FutureWarning: \n",
            "\n",
            "Passing `palette` without assigning `hue` is deprecated and will be removed in v0.14.0. Assign the `x` variable to `hue` and set `legend=False` for the same effect.\n",
            "\n",
            "  sns.countplot(x='sentiment', data=df, palette='viridis')\n"
          ]
        },
        {
          "data": {
            "image/png": "[encoded data removed]",
            "text/plain": [
              "<Figure size 1000x300 with 1 Axes>"
            ]
          },
          "metadata": {},
          "output_type": "display_data"
        }
      ],
      "source": [
        "# Plot sentiment distribution\n",
        "plt.figure(figsize=(10, 3))\n",
        "sns.countplot(x='sentiment', data=df, palette='viridis')\n",
        "plt.title(\"Sentiment Distribution for ESG Tweets\")\n",
        "plt.xlabel(\"Sentiment\")\n",
        "plt.ylabel(\"Count\")\n",
        "plt.show()\n"
      ]
    },
    {
      "cell_type": "code",
      "execution_count": null,
      "id": "8cd59036-825f-4083-842d-97080363e37f",
      "metadata": {
        "id": "8cd59036-825f-4083-842d-97080363e37f",
        "outputId": "ea8bbfc1-cca5-4fdd-c032-47ed6bd2f382"
      },
      "outputs": [
        {
          "name": "stdout",
          "output_type": "stream",
          "text": [
            "Index(['author_id', 'created_at', 'text', 'Cleaned_text', 'polarity',\n",
            "       'sentiment'],\n",
            "      dtype='object')\n"
          ]
        }
      ],
      "source": [
        "print (df.columns)"
      ]
    },
    {
      "cell_type": "code",
      "execution_count": null,
      "id": "586e73f0-9076-4be2-9f29-3f7b0b9c0803",
      "metadata": {
        "id": "586e73f0-9076-4be2-9f29-3f7b0b9c0803",
        "outputId": "b761a6f5-9676-4ae1-e411-1224f5ad39d9"
      },
      "outputs": [
        {
          "name": "stdout",
          "output_type": "stream",
          "text": [
            "Index(['author_id', 'timestamp', 'text', 'Cleaned_text', 'polarity',\n",
            "       'sentiment'],\n",
            "      dtype='object')\n"
          ]
        }
      ],
      "source": [
        "# Renaming the 'created_at' column to 'timestamp'\n",
        "df = df.rename(columns={'created_at': 'timestamp'})\n",
        "print(df.columns)"
      ]
    },
    {
      "cell_type": "code",
      "execution_count": null,
      "id": "0bdda4c7-80b4-4bb3-acc4-a2d00afe83ed",
      "metadata": {
        "id": "0bdda4c7-80b4-4bb3-acc4-a2d00afe83ed",
        "outputId": "e8ddaec0-7868-4e90-f27c-eac5067caa87"
      },
      "outputs": [
        {
          "data": {
            "image/png": "[encoded data removed]",
            "text/plain": [
              "<Figure size 1000x200 with 1 Axes>"
            ]
          },
          "metadata": {},
          "output_type": "display_data"
        }
      ],
      "source": [
        "# Plot polarity over time\n",
        "plt.figure(figsize=(10, 2))\n",
        "df.set_index('timestamp')['polarity'].plot()\n",
        "plt.title(\"Polarity of ESG Tweets Over Time\")\n",
        "plt.xlabel(\"Time\")\n",
        "plt.ylabel(\"Polarity\")\n",
        "plt.show()"
      ]
    },
    {
      "cell_type": "markdown",
      "id": "5a9007de-82cc-4fa7-832d-573b67debd4a",
      "metadata": {
        "id": "5a9007de-82cc-4fa7-832d-573b67debd4a"
      },
      "source": [
        "#Based on the sentiment analysis results:\n",
        "\n",
        "#40% Neutral: Most tweets show a neutral sentiment, which could indicate that many discussions around ESG are factual or objective,\n",
        "#focusing on information-sharing rather than strong opinions. This could be typical for topics involving regulations, reporting standards,\n",
        "#or general ESG metrics.\n",
        "\n",
        "#35% Positive: A substantial portion of tweets is positive, which may reflect support for ESG initiatives, optimism about sustainability trends,\n",
        "#or encouragement of responsible corporate practices. This aligns with a positive public reception of sustainable and ethical practices in the\n",
        "#business world.\n",
        "\n",
        "#25% Negative: Although smaller, a significant portion shows negative sentiment, potentially indicating criticism or skepticism. These could be\n",
        "#tweets addressing ESG controversies, challenges in meeting ESG goals, or doubts about companies' true commitment to sustainability.\n",
        "\n",
        "#Overall Analysis:\n",
        "#The sentiment distribution suggests a balanced view of ESG topics on Twitter, with a leaning toward neutrality and positivity.\n",
        "#However, the presence of 25% negative tweets also suggests a segment of users who are critical or concerned about ESG-related matters.\n",
        "#It may be beneficial to delve into the content of negative tweets to understand specific concerns, which could include greenwashing,\n",
        "#regulatory issues,or corporate accountability."
      ]
    },
    {
      "cell_type": "code",
      "execution_count": null,
      "id": "c1c088f1-22ac-4e69-90bc-089bce6b5adf",
      "metadata": {
        "id": "c1c088f1-22ac-4e69-90bc-089bce6b5adf",
        "outputId": "84ae5efa-9e55-476c-b44b-3a9e4701e0c6"
      },
      "outputs": [
        {
          "data": {
            "text/plain": [
              "'C:\\\\Users\\\\bryan'"
            ]
          },
          "execution_count": 130,
          "metadata": {},
          "output_type": "execute_result"
        }
      ],
      "source": [
        "pwd"
      ]
    }
  ],
  "metadata": {
    "kernelspec": {
      "display_name": "Python 3 (ipykernel)",
      "language": "python",
      "name": "python3"
    },
    "language_info": {
      "codemirror_mode": {
        "name": "ipython",
        "version": 3
      },
      "file_extension": ".py",
      "mimetype": "text/x-python",
      "name": "python",
      "nbconvert_exporter": "python",
      "pygments_lexer": "ipython3",
      "version": "3.12.4"
    },
    "colab": {
      "provenance": [],
      "include_colab_link": true
    }
  },
  "nbformat": 4,
  "nbformat_minor": 5
}