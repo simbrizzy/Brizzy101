{
  "nbformat": 4,
  "nbformat_minor": 0,
  "metadata": {
    "colab": {
      "provenance": [],
      "authorship_tag": "ABX9TyOSQ2V6NPI/G7WyZ+ow8RGO",
      "include_colab_link": true
    },
    "kernelspec": {
      "name": "python3",
      "display_name": "Python 3"
    },
    "language_info": {
      "name": "python"
    }
  },
  "cells": [
    {
      "cell_type": "markdown",
      "metadata": {
        "id": "view-in-github",
        "colab_type": "text"
      },
      "source": [
        "<a href=\"https://colab.research.google.com/github/simbrizzy/Brizzy101/blob/master/EDENCARE_Mini_Project.ipynb\" target=\"_parent\"><img src=\"https://colab.research.google.com/assets/colab-badge.svg\" alt=\"Open In Colab\"/></a>"
      ]
    },
    {
      "cell_type": "code",
      "execution_count": 133,
      "metadata": {
        "colab": {
          "base_uri": "https://localhost:8080/",
          "height": 0
        },
        "id": "CKMfdGdgylwt",
        "outputId": "af9e0d0c-d823-464a-9490-f85e5ac9c6c4"
      },
      "outputs": [
        {
          "output_type": "stream",
          "name": "stdout",
          "text": [
            "Requirement already satisfied: imbalanced-learn in /usr/local/lib/python3.11/dist-packages (0.13.0)\n",
            "Requirement already satisfied: numpy<3,>=1.24.3 in /usr/local/lib/python3.11/dist-packages (from imbalanced-learn) (1.26.4)\n",
            "Requirement already satisfied: scipy<2,>=1.10.1 in /usr/local/lib/python3.11/dist-packages (from imbalanced-learn) (1.13.1)\n",
            "Requirement already satisfied: scikit-learn<2,>=1.3.2 in /usr/local/lib/python3.11/dist-packages (from imbalanced-learn) (1.6.1)\n",
            "Requirement already satisfied: sklearn-compat<1,>=0.1 in /usr/local/lib/python3.11/dist-packages (from imbalanced-learn) (0.1.3)\n",
            "Requirement already satisfied: joblib<2,>=1.1.1 in /usr/local/lib/python3.11/dist-packages (from imbalanced-learn) (1.4.2)\n",
            "Requirement already satisfied: threadpoolctl<4,>=2.0.0 in /usr/local/lib/python3.11/dist-packages (from imbalanced-learn) (3.5.0)\n"
          ]
        }
      ],
      "source": [
        "!pip install imbalanced-learn\n",
        "import pandas as pd\n",
        "import numpy as np\n",
        "from sklearn.model_selection import train_test_split\n",
        "from sklearn.preprocessing import LabelEncoder\n",
        "from sklearn.ensemble import RandomForestClassifier\n",
        "from sklearn.metrics import accuracy_score\n",
        "from imblearn.over_sampling import SMOTE\n",
        "from lightgbm import LGBMClassifier\n",
        "from sklearn.metrics import classification_report, confusion_matrix,roc_auc_score\n",
        "from matplotlib import pyplot as plt\n",
        "import seaborn as sns\n",
        "from sklearn.model_selection import(cross_val_score,StratifiedKFold,learning_curve)\n"
      ]
    },
    {
      "cell_type": "code",
      "source": [
        "# Load dataset\n",
        "file_path = \"/content/Sample_Claims_Data.csv\"\n",
        "df = pd.read_csv(file_path)"
      ],
      "metadata": {
        "id": "fRrMYVLky4ml"
      },
      "execution_count": 94,
      "outputs": []
    },
    {
      "cell_type": "code",
      "source": [
        "# Display first few rows\n",
        "print(\"Dataset Preview:\\n\", df.head())"
      ],
      "metadata": {
        "colab": {
          "base_uri": "https://localhost:8080/",
          "height": 0
        },
        "id": "6g9r2k3ky4d5",
        "outputId": "b4db29e5-85da-4849-b5e6-50e7bc4279da"
      },
      "execution_count": 95,
      "outputs": [
        {
          "output_type": "stream",
          "name": "stdout",
          "text": [
            "Dataset Preview:\n",
            "       Claim ID Member ID  Claim Amount Diagnosis Code  Procedure Code  \\\n",
            "0  CLAIM_00001  MEM_0001       3699.42         K35.80           81002   \n",
            "1  CLAIM_00002  MEM_0002        613.79          J20.9           99213   \n",
            "2  CLAIM_00003  MEM_0003       3605.77          J20.9               0   \n",
            "3  CLAIM_00004  MEM_0004       3212.27          J20.9           81002   \n",
            "4  CLAIM_00005  MEM_0005       4349.81          A01.0           99999   \n",
            "\n",
            "  Provider ID Date of Service Claim Submission Date  Previous Claims  \\\n",
            "0    PROV_001      23/01/2023            31/01/2023                4   \n",
            "1    PROV_002      16/01/2023            22/01/2023                4   \n",
            "2    PROV_003      22/02/2023            24/02/2023                2   \n",
            "3    PROV_004      08/03/2023            13/03/2023                0   \n",
            "4    PROV_005      28/03/2023            05/04/2023                2   \n",
            "\n",
            "   Member Age Location  Fraudulent  \n",
            "0          54    Urban           1  \n",
            "1          37    Urban           0  \n",
            "2          43    Urban           1  \n",
            "3          34    Urban           0  \n",
            "4          36    Urban           0  \n"
          ]
        }
      ]
    },
    {
      "cell_type": "code",
      "source": [
        "# Check for missing values\n",
        "print(\"\\nMissing Values:\\n\", df.isnull().sum())"
      ],
      "metadata": {
        "colab": {
          "base_uri": "https://localhost:8080/",
          "height": 0
        },
        "id": "3TEs2ciny4U4",
        "outputId": "31283e40-ee2d-4ee2-e5b9-c6a21bf5cf54"
      },
      "execution_count": 96,
      "outputs": [
        {
          "output_type": "stream",
          "name": "stdout",
          "text": [
            "\n",
            "Missing Values:\n",
            " Claim ID                 0\n",
            "Member ID                0\n",
            "Claim Amount             0\n",
            "Diagnosis Code           0\n",
            "Procedure Code           0\n",
            "Provider ID              0\n",
            "Date of Service          0\n",
            "Claim Submission Date    0\n",
            "Previous Claims          0\n",
            "Member Age               0\n",
            "Location                 0\n",
            "Fraudulent               0\n",
            "dtype: int64\n"
          ]
        }
      ]
    },
    {
      "cell_type": "code",
      "source": [
        "# Creating High Claim Amount feature (normalized)\n",
        "df['High_Claim_Amount'] = df['Claim Amount'] / df.groupby('Diagnosis Code')['Claim Amount'].transform('mean')\n"
      ],
      "metadata": {
        "id": "zfgY22noVnnz"
      },
      "execution_count": 97,
      "outputs": []
    },
    {
      "cell_type": "code",
      "source": [
        "# checking the data types and column information\n",
        "df.info()"
      ],
      "metadata": {
        "colab": {
          "base_uri": "https://localhost:8080/",
          "height": 0
        },
        "id": "dE2ctyGxzFL1",
        "outputId": "2cdca5d8-3088-45de-e743-b206e9ba4d3a"
      },
      "execution_count": 98,
      "outputs": [
        {
          "output_type": "stream",
          "name": "stdout",
          "text": [
            "<class 'pandas.core.frame.DataFrame'>\n",
            "RangeIndex: 1120 entries, 0 to 1119\n",
            "Data columns (total 13 columns):\n",
            " #   Column                 Non-Null Count  Dtype  \n",
            "---  ------                 --------------  -----  \n",
            " 0   Claim ID               1120 non-null   object \n",
            " 1   Member ID              1120 non-null   object \n",
            " 2   Claim Amount           1120 non-null   float64\n",
            " 3   Diagnosis Code         1120 non-null   object \n",
            " 4   Procedure Code         1120 non-null   int64  \n",
            " 5   Provider ID            1120 non-null   object \n",
            " 6   Date of Service        1120 non-null   object \n",
            " 7   Claim Submission Date  1120 non-null   object \n",
            " 8   Previous Claims        1120 non-null   int64  \n",
            " 9   Member Age             1120 non-null   int64  \n",
            " 10  Location               1120 non-null   object \n",
            " 11  Fraudulent             1120 non-null   int64  \n",
            " 12  High_Claim_Amount      1120 non-null   float64\n",
            "dtypes: float64(2), int64(4), object(7)\n",
            "memory usage: 113.9+ KB\n"
          ]
        }
      ]
    },
    {
      "cell_type": "code",
      "source": [
        "#changing the Date of Service and Claim Submission Date from object to DateTime data type\n",
        "df['Date of Service'] = pd.to_datetime(df['Date of Service'])\n",
        "df['Claim Submission Date'] = pd.to_datetime(df['Claim Submission Date'])"
      ],
      "metadata": {
        "colab": {
          "base_uri": "https://localhost:8080/",
          "height": 0
        },
        "id": "hf8DSRiE0cG0",
        "outputId": "cef67768-62bb-4f8d-9325-c8045d31504a"
      },
      "execution_count": 99,
      "outputs": [
        {
          "output_type": "stream",
          "name": "stderr",
          "text": [
            "<ipython-input-99-a6415058e306>:2: UserWarning: Parsing dates in %d/%m/%Y format when dayfirst=False (the default) was specified. Pass `dayfirst=True` or specify a format to silence this warning.\n",
            "  df['Date of Service'] = pd.to_datetime(df['Date of Service'])\n",
            "<ipython-input-99-a6415058e306>:3: UserWarning: Parsing dates in %d/%m/%Y format when dayfirst=False (the default) was specified. Pass `dayfirst=True` or specify a format to silence this warning.\n",
            "  df['Claim Submission Date'] = pd.to_datetime(df['Claim Submission Date'])\n"
          ]
        }
      ]
    },
    {
      "cell_type": "code",
      "source": [
        "#Creating Frequent Claim Submission feature for members (last 30 days)\n",
        "df['Member_Frequent_Claims_30Days'] = df.groupby('Member ID')['Claim Submission Date'].transform(lambda x: x.diff().dt.days.rolling(30).count())"
      ],
      "metadata": {
        "id": "xELLYl7xW4G_"
      },
      "execution_count": 100,
      "outputs": []
    },
    {
      "cell_type": "code",
      "source": [
        "# Assuming your DataFrame is called 'df' and has a 'Claim Submission Date' column\n",
        "df['Claim_Submission_DayOfWeek'] = df['Claim Submission Date'].dt.dayofweek  # Monday=0, Sunday=6\n",
        "df['Claim_Submission_Hour'] = df['Claim Submission Date'].dt.hour"
      ],
      "metadata": {
        "id": "4JMaJi2EYKqN"
      },
      "execution_count": 101,
      "outputs": []
    },
    {
      "cell_type": "code",
      "source": [
        "# Converting datetime columns to numerical features\n",
        "# Extract numerical features from datetime columns\n",
        "df['Date_of_Service_Numeric'] = df['Date of Service'].astype(np.int64) // 10**9  # Convert to Unix timestamp\n",
        "df['Claim_Submission_Date_Numeric'] = df['Claim Submission Date'].astype(np.int64) // 10**9  # Convert to Unix timestamp\n"
      ],
      "metadata": {
        "id": "RvtGmVMP-qMV"
      },
      "execution_count": 102,
      "outputs": []
    },
    {
      "cell_type": "code",
      "source": [
        "# Dropping the original datetime columns if needed\n",
        "df = df.drop(columns=['Date of Service', 'Claim Submission Date'])"
      ],
      "metadata": {
        "id": "kTJxKRqr-vSh"
      },
      "execution_count": 103,
      "outputs": []
    },
    {
      "cell_type": "code",
      "source": [
        "#checking the information of the changed columns\n",
        "df.info()"
      ],
      "metadata": {
        "colab": {
          "base_uri": "https://localhost:8080/",
          "height": 0
        },
        "id": "cu6W_FBm0uL4",
        "outputId": "82417200-c201-4f38-b7a1-7753654cfc9b"
      },
      "execution_count": 104,
      "outputs": [
        {
          "output_type": "stream",
          "name": "stdout",
          "text": [
            "<class 'pandas.core.frame.DataFrame'>\n",
            "RangeIndex: 1120 entries, 0 to 1119\n",
            "Data columns (total 16 columns):\n",
            " #   Column                         Non-Null Count  Dtype  \n",
            "---  ------                         --------------  -----  \n",
            " 0   Claim ID                       1120 non-null   object \n",
            " 1   Member ID                      1120 non-null   object \n",
            " 2   Claim Amount                   1120 non-null   float64\n",
            " 3   Diagnosis Code                 1120 non-null   object \n",
            " 4   Procedure Code                 1120 non-null   int64  \n",
            " 5   Provider ID                    1120 non-null   object \n",
            " 6   Previous Claims                1120 non-null   int64  \n",
            " 7   Member Age                     1120 non-null   int64  \n",
            " 8   Location                       1120 non-null   object \n",
            " 9   Fraudulent                     1120 non-null   int64  \n",
            " 10  High_Claim_Amount              1120 non-null   float64\n",
            " 11  Member_Frequent_Claims_30Days  0 non-null      float64\n",
            " 12  Claim_Submission_DayOfWeek     1120 non-null   int32  \n",
            " 13  Claim_Submission_Hour          1120 non-null   int32  \n",
            " 14  Date_of_Service_Numeric        1120 non-null   int64  \n",
            " 15  Claim_Submission_Date_Numeric  1120 non-null   int64  \n",
            "dtypes: float64(3), int32(2), int64(6), object(5)\n",
            "memory usage: 131.4+ KB\n"
          ]
        }
      ]
    },
    {
      "cell_type": "code",
      "source": [
        "# Encoding 'Diagnose Code', 'Provider ID', and 'Location', 'Member ID' columns separately\n",
        "label_encoder = LabelEncoder()\n",
        "df['Diagnosis Code'] = label_encoder.fit_transform(df['Diagnosis Code'])\n",
        "df['Provider ID'] = label_encoder.fit_transform(df['Provider ID'])\n",
        "df['Location'] = label_encoder.fit_transform(df['Location'])\n",
        "df['Member ID'] = label_encoder.fit_transform(df['Member ID'])"
      ],
      "metadata": {
        "id": "ObSKoHeAy4Ju"
      },
      "execution_count": 105,
      "outputs": []
    },
    {
      "cell_type": "code",
      "source": [
        "#checking the information of the changed columns\n",
        "df.info()"
      ],
      "metadata": {
        "colab": {
          "base_uri": "https://localhost:8080/",
          "height": 0
        },
        "id": "Ux1VjWSj2HwV",
        "outputId": "8908aa54-d4aa-40a4-8637-51bc5223d5de"
      },
      "execution_count": 106,
      "outputs": [
        {
          "output_type": "stream",
          "name": "stdout",
          "text": [
            "<class 'pandas.core.frame.DataFrame'>\n",
            "RangeIndex: 1120 entries, 0 to 1119\n",
            "Data columns (total 16 columns):\n",
            " #   Column                         Non-Null Count  Dtype  \n",
            "---  ------                         --------------  -----  \n",
            " 0   Claim ID                       1120 non-null   object \n",
            " 1   Member ID                      1120 non-null   int64  \n",
            " 2   Claim Amount                   1120 non-null   float64\n",
            " 3   Diagnosis Code                 1120 non-null   int64  \n",
            " 4   Procedure Code                 1120 non-null   int64  \n",
            " 5   Provider ID                    1120 non-null   int64  \n",
            " 6   Previous Claims                1120 non-null   int64  \n",
            " 7   Member Age                     1120 non-null   int64  \n",
            " 8   Location                       1120 non-null   int64  \n",
            " 9   Fraudulent                     1120 non-null   int64  \n",
            " 10  High_Claim_Amount              1120 non-null   float64\n",
            " 11  Member_Frequent_Claims_30Days  0 non-null      float64\n",
            " 12  Claim_Submission_DayOfWeek     1120 non-null   int32  \n",
            " 13  Claim_Submission_Hour          1120 non-null   int32  \n",
            " 14  Date_of_Service_Numeric        1120 non-null   int64  \n",
            " 15  Claim_Submission_Date_Numeric  1120 non-null   int64  \n",
            "dtypes: float64(3), int32(2), int64(10), object(1)\n",
            "memory usage: 131.4+ KB\n"
          ]
        }
      ]
    },
    {
      "cell_type": "code",
      "source": [
        "#checking the first rows of the data\n",
        "df.head()"
      ],
      "metadata": {
        "colab": {
          "base_uri": "https://localhost:8080/",
          "height": 244
        },
        "id": "hb4pH6hE633Q",
        "outputId": "1cb5df39-4469-4fd3-fd1a-ec467e2e0a51"
      },
      "execution_count": 107,
      "outputs": [
        {
          "output_type": "execute_result",
          "data": {
            "text/plain": [
              "      Claim ID  Member ID  Claim Amount  Diagnosis Code  Procedure Code  \\\n",
              "0  CLAIM_00001          0       3699.42             395           81002   \n",
              "1  CLAIM_00002          1        613.79             344           99213   \n",
              "2  CLAIM_00003          2       3605.77             344               0   \n",
              "3  CLAIM_00004          3       3212.27             344           81002   \n",
              "4  CLAIM_00005          4       4349.81               0           99999   \n",
              "\n",
              "   Provider ID  Previous Claims  Member Age  Location  Fraudulent  \\\n",
              "0            0                4          54        29           1   \n",
              "1            1                4          37        29           0   \n",
              "2            2                2          43        29           1   \n",
              "3            3                0          34        29           0   \n",
              "4            4                2          36        29           0   \n",
              "\n",
              "   High_Claim_Amount  Member_Frequent_Claims_30Days  \\\n",
              "0           1.172864                            NaN   \n",
              "1           0.199572                            NaN   \n",
              "2           1.172408                            NaN   \n",
              "3           1.044462                            NaN   \n",
              "4           1.038324                            NaN   \n",
              "\n",
              "   Claim_Submission_DayOfWeek  Claim_Submission_Hour  Date_of_Service_Numeric  \\\n",
              "0                           1                      0               1674432000   \n",
              "1                           6                      0               1673827200   \n",
              "2                           4                      0               1677024000   \n",
              "3                           0                      0               1678233600   \n",
              "4                           2                      0               1679961600   \n",
              "\n",
              "   Claim_Submission_Date_Numeric  \n",
              "0                     1675123200  \n",
              "1                     1674345600  \n",
              "2                     1677196800  \n",
              "3                     1678665600  \n",
              "4                     1680652800  "
            ],
            "text/html": [
              "\n",
              "  <div id=\"df-cf422da1-de0c-467a-a681-b08eefe4ba71\" class=\"colab-df-container\">\n",
              "    <div>\n",
              "<style scoped>\n",
              "    .dataframe tbody tr th:only-of-type {\n",
              "        vertical-align: middle;\n",
              "    }\n",
              "\n",
              "    .dataframe tbody tr th {\n",
              "        vertical-align: top;\n",
              "    }\n",
              "\n",
              "    .dataframe thead th {\n",
              "        text-align: right;\n",
              "    }\n",
              "</style>\n",
              "<table border=\"1\" class=\"dataframe\">\n",
              "  <thead>\n",
              "    <tr style=\"text-align: right;\">\n",
              "      <th></th>\n",
              "      <th>Claim ID</th>\n",
              "      <th>Member ID</th>\n",
              "      <th>Claim Amount</th>\n",
              "      <th>Diagnosis Code</th>\n",
              "      <th>Procedure Code</th>\n",
              "      <th>Provider ID</th>\n",
              "      <th>Previous Claims</th>\n",
              "      <th>Member Age</th>\n",
              "      <th>Location</th>\n",
              "      <th>Fraudulent</th>\n",
              "      <th>High_Claim_Amount</th>\n",
              "      <th>Member_Frequent_Claims_30Days</th>\n",
              "      <th>Claim_Submission_DayOfWeek</th>\n",
              "      <th>Claim_Submission_Hour</th>\n",
              "      <th>Date_of_Service_Numeric</th>\n",
              "      <th>Claim_Submission_Date_Numeric</th>\n",
              "    </tr>\n",
              "  </thead>\n",
              "  <tbody>\n",
              "    <tr>\n",
              "      <th>0</th>\n",
              "      <td>CLAIM_00001</td>\n",
              "      <td>0</td>\n",
              "      <td>3699.42</td>\n",
              "      <td>395</td>\n",
              "      <td>81002</td>\n",
              "      <td>0</td>\n",
              "      <td>4</td>\n",
              "      <td>54</td>\n",
              "      <td>29</td>\n",
              "      <td>1</td>\n",
              "      <td>1.172864</td>\n",
              "      <td>NaN</td>\n",
              "      <td>1</td>\n",
              "      <td>0</td>\n",
              "      <td>1674432000</td>\n",
              "      <td>1675123200</td>\n",
              "    </tr>\n",
              "    <tr>\n",
              "      <th>1</th>\n",
              "      <td>CLAIM_00002</td>\n",
              "      <td>1</td>\n",
              "      <td>613.79</td>\n",
              "      <td>344</td>\n",
              "      <td>99213</td>\n",
              "      <td>1</td>\n",
              "      <td>4</td>\n",
              "      <td>37</td>\n",
              "      <td>29</td>\n",
              "      <td>0</td>\n",
              "      <td>0.199572</td>\n",
              "      <td>NaN</td>\n",
              "      <td>6</td>\n",
              "      <td>0</td>\n",
              "      <td>1673827200</td>\n",
              "      <td>1674345600</td>\n",
              "    </tr>\n",
              "    <tr>\n",
              "      <th>2</th>\n",
              "      <td>CLAIM_00003</td>\n",
              "      <td>2</td>\n",
              "      <td>3605.77</td>\n",
              "      <td>344</td>\n",
              "      <td>0</td>\n",
              "      <td>2</td>\n",
              "      <td>2</td>\n",
              "      <td>43</td>\n",
              "      <td>29</td>\n",
              "      <td>1</td>\n",
              "      <td>1.172408</td>\n",
              "      <td>NaN</td>\n",
              "      <td>4</td>\n",
              "      <td>0</td>\n",
              "      <td>1677024000</td>\n",
              "      <td>1677196800</td>\n",
              "    </tr>\n",
              "    <tr>\n",
              "      <th>3</th>\n",
              "      <td>CLAIM_00004</td>\n",
              "      <td>3</td>\n",
              "      <td>3212.27</td>\n",
              "      <td>344</td>\n",
              "      <td>81002</td>\n",
              "      <td>3</td>\n",
              "      <td>0</td>\n",
              "      <td>34</td>\n",
              "      <td>29</td>\n",
              "      <td>0</td>\n",
              "      <td>1.044462</td>\n",
              "      <td>NaN</td>\n",
              "      <td>0</td>\n",
              "      <td>0</td>\n",
              "      <td>1678233600</td>\n",
              "      <td>1678665600</td>\n",
              "    </tr>\n",
              "    <tr>\n",
              "      <th>4</th>\n",
              "      <td>CLAIM_00005</td>\n",
              "      <td>4</td>\n",
              "      <td>4349.81</td>\n",
              "      <td>0</td>\n",
              "      <td>99999</td>\n",
              "      <td>4</td>\n",
              "      <td>2</td>\n",
              "      <td>36</td>\n",
              "      <td>29</td>\n",
              "      <td>0</td>\n",
              "      <td>1.038324</td>\n",
              "      <td>NaN</td>\n",
              "      <td>2</td>\n",
              "      <td>0</td>\n",
              "      <td>1679961600</td>\n",
              "      <td>1680652800</td>\n",
              "    </tr>\n",
              "  </tbody>\n",
              "</table>\n",
              "</div>\n",
              "    <div class=\"colab-df-buttons\">\n",
              "\n",
              "  <div class=\"colab-df-container\">\n",
              "    <button class=\"colab-df-convert\" onclick=\"convertToInteractive('df-cf422da1-de0c-467a-a681-b08eefe4ba71')\"\n",
              "            title=\"Convert this dataframe to an interactive table.\"\n",
              "            style=\"display:none;\">\n",
              "\n",
              "  <svg xmlns=\"http://www.w3.org/2000/svg\" height=\"24px\" viewBox=\"0 -960 960 960\">\n",
              "    <path d=\"M120-120v-720h720v720H120Zm60-500h600v-160H180v160Zm220 220h160v-160H400v160Zm0 220h160v-160H400v160ZM180-400h160v-160H180v160Zm440 0h160v-160H620v160ZM180-180h160v-160H180v160Zm440 0h160v-160H620v160Z\"/>\n",
              "  </svg>\n",
              "    </button>\n",
              "\n",
              "  <style>\n",
              "    .colab-df-container {\n",
              "      display:flex;\n",
              "      gap: 12px;\n",
              "    }\n",
              "\n",
              "    .colab-df-convert {\n",
              "      background-color: #E8F0FE;\n",
              "      border: none;\n",
              "      border-radius: 50%;\n",
              "      cursor: pointer;\n",
              "      display: none;\n",
              "      fill: #1967D2;\n",
              "      height: 32px;\n",
              "      padding: 0 0 0 0;\n",
              "      width: 32px;\n",
              "    }\n",
              "\n",
              "    .colab-df-convert:hover {\n",
              "      background-color: #E2EBFA;\n",
              "      box-shadow: 0px 1px 2px rgba(60, 64, 67, 0.3), 0px 1px 3px 1px rgba(60, 64, 67, 0.15);\n",
              "      fill: #174EA6;\n",
              "    }\n",
              "\n",
              "    .colab-df-buttons div {\n",
              "      margin-bottom: 4px;\n",
              "    }\n",
              "\n",
              "    [theme=dark] .colab-df-convert {\n",
              "      background-color: #3B4455;\n",
              "      fill: #D2E3FC;\n",
              "    }\n",
              "\n",
              "    [theme=dark] .colab-df-convert:hover {\n",
              "      background-color: #434B5C;\n",
              "      box-shadow: 0px 1px 3px 1px rgba(0, 0, 0, 0.15);\n",
              "      filter: drop-shadow(0px 1px 2px rgba(0, 0, 0, 0.3));\n",
              "      fill: #FFFFFF;\n",
              "    }\n",
              "  </style>\n",
              "\n",
              "    <script>\n",
              "      const buttonEl =\n",
              "        document.querySelector('#df-cf422da1-de0c-467a-a681-b08eefe4ba71 button.colab-df-convert');\n",
              "      buttonEl.style.display =\n",
              "        google.colab.kernel.accessAllowed ? 'block' : 'none';\n",
              "\n",
              "      async function convertToInteractive(key) {\n",
              "        const element = document.querySelector('#df-cf422da1-de0c-467a-a681-b08eefe4ba71');\n",
              "        const dataTable =\n",
              "          await google.colab.kernel.invokeFunction('convertToInteractive',\n",
              "                                                    [key], {});\n",
              "        if (!dataTable) return;\n",
              "\n",
              "        const docLinkHtml = 'Like what you see? Visit the ' +\n",
              "          '<a target=\"_blank\" href=https://colab.research.google.com/notebooks/data_table.ipynb>data table notebook</a>'\n",
              "          + ' to learn more about interactive tables.';\n",
              "        element.innerHTML = '';\n",
              "        dataTable['output_type'] = 'display_data';\n",
              "        await google.colab.output.renderOutput(dataTable, element);\n",
              "        const docLink = document.createElement('div');\n",
              "        docLink.innerHTML = docLinkHtml;\n",
              "        element.appendChild(docLink);\n",
              "      }\n",
              "    </script>\n",
              "  </div>\n",
              "\n",
              "\n",
              "<div id=\"df-16f56b8c-6881-4ce4-8db8-abe063080d12\">\n",
              "  <button class=\"colab-df-quickchart\" onclick=\"quickchart('df-16f56b8c-6881-4ce4-8db8-abe063080d12')\"\n",
              "            title=\"Suggest charts\"\n",
              "            style=\"display:none;\">\n",
              "\n",
              "<svg xmlns=\"http://www.w3.org/2000/svg\" height=\"24px\"viewBox=\"0 0 24 24\"\n",
              "     width=\"24px\">\n",
              "    <g>\n",
              "        <path d=\"M19 3H5c-1.1 0-2 .9-2 2v14c0 1.1.9 2 2 2h14c1.1 0 2-.9 2-2V5c0-1.1-.9-2-2-2zM9 17H7v-7h2v7zm4 0h-2V7h2v10zm4 0h-2v-4h2v4z\"/>\n",
              "    </g>\n",
              "</svg>\n",
              "  </button>\n",
              "\n",
              "<style>\n",
              "  .colab-df-quickchart {\n",
              "      --bg-color: #E8F0FE;\n",
              "      --fill-color: #1967D2;\n",
              "      --hover-bg-color: #E2EBFA;\n",
              "      --hover-fill-color: #174EA6;\n",
              "      --disabled-fill-color: #AAA;\n",
              "      --disabled-bg-color: #DDD;\n",
              "  }\n",
              "\n",
              "  [theme=dark] .colab-df-quickchart {\n",
              "      --bg-color: #3B4455;\n",
              "      --fill-color: #D2E3FC;\n",
              "      --hover-bg-color: #434B5C;\n",
              "      --hover-fill-color: #FFFFFF;\n",
              "      --disabled-bg-color: #3B4455;\n",
              "      --disabled-fill-color: #666;\n",
              "  }\n",
              "\n",
              "  .colab-df-quickchart {\n",
              "    background-color: var(--bg-color);\n",
              "    border: none;\n",
              "    border-radius: 50%;\n",
              "    cursor: pointer;\n",
              "    display: none;\n",
              "    fill: var(--fill-color);\n",
              "    height: 32px;\n",
              "    padding: 0;\n",
              "    width: 32px;\n",
              "  }\n",
              "\n",
              "  .colab-df-quickchart:hover {\n",
              "    background-color: var(--hover-bg-color);\n",
              "    box-shadow: 0 1px 2px rgba(60, 64, 67, 0.3), 0 1px 3px 1px rgba(60, 64, 67, 0.15);\n",
              "    fill: var(--button-hover-fill-color);\n",
              "  }\n",
              "\n",
              "  .colab-df-quickchart-complete:disabled,\n",
              "  .colab-df-quickchart-complete:disabled:hover {\n",
              "    background-color: var(--disabled-bg-color);\n",
              "    fill: var(--disabled-fill-color);\n",
              "    box-shadow: none;\n",
              "  }\n",
              "\n",
              "  .colab-df-spinner {\n",
              "    border: 2px solid var(--fill-color);\n",
              "    border-color: transparent;\n",
              "    border-bottom-color: var(--fill-color);\n",
              "    animation:\n",
              "      spin 1s steps(1) infinite;\n",
              "  }\n",
              "\n",
              "  @keyframes spin {\n",
              "    0% {\n",
              "      border-color: transparent;\n",
              "      border-bottom-color: var(--fill-color);\n",
              "      border-left-color: var(--fill-color);\n",
              "    }\n",
              "    20% {\n",
              "      border-color: transparent;\n",
              "      border-left-color: var(--fill-color);\n",
              "      border-top-color: var(--fill-color);\n",
              "    }\n",
              "    30% {\n",
              "      border-color: transparent;\n",
              "      border-left-color: var(--fill-color);\n",
              "      border-top-color: var(--fill-color);\n",
              "      border-right-color: var(--fill-color);\n",
              "    }\n",
              "    40% {\n",
              "      border-color: transparent;\n",
              "      border-right-color: var(--fill-color);\n",
              "      border-top-color: var(--fill-color);\n",
              "    }\n",
              "    60% {\n",
              "      border-color: transparent;\n",
              "      border-right-color: var(--fill-color);\n",
              "    }\n",
              "    80% {\n",
              "      border-color: transparent;\n",
              "      border-right-color: var(--fill-color);\n",
              "      border-bottom-color: var(--fill-color);\n",
              "    }\n",
              "    90% {\n",
              "      border-color: transparent;\n",
              "      border-bottom-color: var(--fill-color);\n",
              "    }\n",
              "  }\n",
              "</style>\n",
              "\n",
              "  <script>\n",
              "    async function quickchart(key) {\n",
              "      const quickchartButtonEl =\n",
              "        document.querySelector('#' + key + ' button');\n",
              "      quickchartButtonEl.disabled = true;  // To prevent multiple clicks.\n",
              "      quickchartButtonEl.classList.add('colab-df-spinner');\n",
              "      try {\n",
              "        const charts = await google.colab.kernel.invokeFunction(\n",
              "            'suggestCharts', [key], {});\n",
              "      } catch (error) {\n",
              "        console.error('Error during call to suggestCharts:', error);\n",
              "      }\n",
              "      quickchartButtonEl.classList.remove('colab-df-spinner');\n",
              "      quickchartButtonEl.classList.add('colab-df-quickchart-complete');\n",
              "    }\n",
              "    (() => {\n",
              "      let quickchartButtonEl =\n",
              "        document.querySelector('#df-16f56b8c-6881-4ce4-8db8-abe063080d12 button');\n",
              "      quickchartButtonEl.style.display =\n",
              "        google.colab.kernel.accessAllowed ? 'block' : 'none';\n",
              "    })();\n",
              "  </script>\n",
              "</div>\n",
              "\n",
              "    </div>\n",
              "  </div>\n"
            ],
            "application/vnd.google.colaboratory.intrinsic+json": {
              "type": "dataframe",
              "variable_name": "df",
              "summary": "{\n  \"name\": \"df\",\n  \"rows\": 1120,\n  \"fields\": [\n    {\n      \"column\": \"Claim ID\",\n      \"properties\": {\n        \"dtype\": \"string\",\n        \"num_unique_values\": 1100,\n        \"samples\": [\n          \"CLAIM_586\",\n          \"CLAIM_907\",\n          \"CLAIM_435\"\n        ],\n        \"semantic_type\": \"\",\n        \"description\": \"\"\n      }\n    },\n    {\n      \"column\": \"Member ID\",\n      \"properties\": {\n        \"dtype\": \"number\",\n        \"std\": 293,\n        \"min\": 0,\n        \"max\": 963,\n        \"num_unique_values\": 964,\n        \"samples\": [\n          271,\n          553,\n          837\n        ],\n        \"semantic_type\": \"\",\n        \"description\": \"\"\n      }\n    },\n    {\n      \"column\": \"Claim Amount\",\n      \"properties\": {\n        \"dtype\": \"number\",\n        \"std\": 1929.1628598147272,\n        \"min\": 103.84,\n        \"max\": 20950.62,\n        \"num_unique_values\": 1100,\n        \"samples\": [\n          3850.24,\n          3032.68,\n          2676.89\n        ],\n        \"semantic_type\": \"\",\n        \"description\": \"\"\n      }\n    },\n    {\n      \"column\": \"Diagnosis Code\",\n      \"properties\": {\n        \"dtype\": \"number\",\n        \"std\": 294,\n        \"min\": 0,\n        \"max\": 999,\n        \"num_unique_values\": 1000,\n        \"samples\": [\n          148,\n          738,\n          145\n        ],\n        \"semantic_type\": \"\",\n        \"description\": \"\"\n      }\n    },\n    {\n      \"column\": \"Procedure Code\",\n      \"properties\": {\n        \"dtype\": \"number\",\n        \"std\": 29997,\n        \"min\": 0,\n        \"max\": 99999,\n        \"num_unique_values\": 1004,\n        \"samples\": [\n          80263,\n          62856,\n          94624\n        ],\n        \"semantic_type\": \"\",\n        \"description\": \"\"\n      }\n    },\n    {\n      \"column\": \"Provider ID\",\n      \"properties\": {\n        \"dtype\": \"number\",\n        \"std\": 195,\n        \"min\": 0,\n        \"max\": 631,\n        \"num_unique_values\": 632,\n        \"samples\": [\n          238,\n          338,\n          360\n        ],\n        \"semantic_type\": \"\",\n        \"description\": \"\"\n      }\n    },\n    {\n      \"column\": \"Previous Claims\",\n      \"properties\": {\n        \"dtype\": \"number\",\n        \"std\": 5,\n        \"min\": 0,\n        \"max\": 20,\n        \"num_unique_values\": 21,\n        \"samples\": [\n          4,\n          18,\n          16\n        ],\n        \"semantic_type\": \"\",\n        \"description\": \"\"\n      }\n    },\n    {\n      \"column\": \"Member Age\",\n      \"properties\": {\n        \"dtype\": \"number\",\n        \"std\": 20,\n        \"min\": 18,\n        \"max\": 90,\n        \"num_unique_values\": 73,\n        \"samples\": [\n          36,\n          38,\n          51\n        ],\n        \"semantic_type\": \"\",\n        \"description\": \"\"\n      }\n    },\n    {\n      \"column\": \"Location\",\n      \"properties\": {\n        \"dtype\": \"number\",\n        \"std\": 5,\n        \"min\": 0,\n        \"max\": 32,\n        \"num_unique_values\": 33,\n        \"samples\": [\n          32,\n          7,\n          19\n        ],\n        \"semantic_type\": \"\",\n        \"description\": \"\"\n      }\n    },\n    {\n      \"column\": \"Fraudulent\",\n      \"properties\": {\n        \"dtype\": \"number\",\n        \"std\": 0,\n        \"min\": 0,\n        \"max\": 1,\n        \"num_unique_values\": 2,\n        \"samples\": [\n          0,\n          1\n        ],\n        \"semantic_type\": \"\",\n        \"description\": \"\"\n      }\n    },\n    {\n      \"column\": \"High_Claim_Amount\",\n      \"properties\": {\n        \"dtype\": \"number\",\n        \"std\": 0.2849683936468659,\n        \"min\": 0.034244752903602085,\n        \"max\": 4.979256479664667,\n        \"num_unique_values\": 113,\n        \"samples\": [\n          2.7535319583653406,\n          1.0383241909072247\n        ],\n        \"semantic_type\": \"\",\n        \"description\": \"\"\n      }\n    },\n    {\n      \"column\": \"Member_Frequent_Claims_30Days\",\n      \"properties\": {\n        \"dtype\": \"number\",\n        \"std\": null,\n        \"min\": null,\n        \"max\": null,\n        \"num_unique_values\": 0,\n        \"samples\": [],\n        \"semantic_type\": \"\",\n        \"description\": \"\"\n      }\n    },\n    {\n      \"column\": \"Claim_Submission_DayOfWeek\",\n      \"properties\": {\n        \"dtype\": \"int32\",\n        \"num_unique_values\": 7,\n        \"samples\": [],\n        \"semantic_type\": \"\",\n        \"description\": \"\"\n      }\n    },\n    {\n      \"column\": \"Claim_Submission_Hour\",\n      \"properties\": {\n        \"dtype\": \"int32\",\n        \"num_unique_values\": 1,\n        \"samples\": [],\n        \"semantic_type\": \"\",\n        \"description\": \"\"\n      }\n    },\n    {\n      \"column\": \"Date_of_Service_Numeric\",\n      \"properties\": {\n        \"dtype\": \"number\",\n        \"std\": 18032061,\n        \"min\": 1662076800,\n        \"max\": 1725062400,\n        \"num_unique_values\": 569,\n        \"samples\": [],\n        \"semantic_type\": \"\",\n        \"description\": \"\"\n      }\n    },\n    {\n      \"column\": \"Claim_Submission_Date_Numeric\",\n      \"properties\": {\n        \"dtype\": \"number\",\n        \"std\": 12116845,\n        \"min\": 1672704000,\n        \"max\": 1725148800,\n        \"num_unique_values\": 417,\n        \"samples\": [],\n        \"semantic_type\": \"\",\n        \"description\": \"\"\n      }\n    }\n  ]\n}"
            }
          },
          "metadata": {},
          "execution_count": 107
        }
      ]
    },
    {
      "cell_type": "code",
      "source": [
        "# Define features (X) and target variable (y)\n",
        "# Assuming 'Claim Status' is the target variable\n",
        "X = df.drop(columns=['Fraudulent','Claim ID'])\n",
        "y = df['Fraudulent']"
      ],
      "metadata": {
        "id": "d9WwIRV5y3qQ"
      },
      "execution_count": 108,
      "outputs": []
    },
    {
      "cell_type": "code",
      "source": [
        "# Checking if Fraudulent is already numeric (0 and 1)\n",
        "print(\"\\nFraudulent Column Unique Values:\", y.unique())"
      ],
      "metadata": {
        "colab": {
          "base_uri": "https://localhost:8080/",
          "height": 0
        },
        "id": "yiU0Fz9r4WDf",
        "outputId": "bf854ced-3801-4396-c45a-346f1d6c28ad"
      },
      "execution_count": 109,
      "outputs": [
        {
          "output_type": "stream",
          "name": "stdout",
          "text": [
            "\n",
            "Fraudulent Column Unique Values: [1 0]\n"
          ]
        }
      ]
    },
    {
      "cell_type": "code",
      "source": [
        "#Checking for Class Imbalance\n",
        "print(y.value_counts(normalize=True))"
      ],
      "metadata": {
        "colab": {
          "base_uri": "https://localhost:8080/",
          "height": 0
        },
        "id": "GsnN8fFW3ccT",
        "outputId": "d568106a-9afb-4ca3-c277-5fa731c62eaa"
      },
      "execution_count": 110,
      "outputs": [
        {
          "output_type": "stream",
          "name": "stdout",
          "text": [
            "Fraudulent\n",
            "0    0.917857\n",
            "1    0.082143\n",
            "Name: proportion, dtype: float64\n"
          ]
        }
      ]
    },
    {
      "cell_type": "code",
      "source": [
        "# Keep a copy of the original DataFrame columns before SMOTE\n",
        "original_X_columns = df.drop(columns=['Fraudulent','Claim ID']).columns"
      ],
      "metadata": {
        "id": "ME7CO6f6cX9e"
      },
      "execution_count": 111,
      "outputs": []
    },
    {
      "cell_type": "code",
      "source": [
        "#since the distribution above shows that the fraud cases are fewer that non-fraud, I apply SMOTE\n",
        "# Handle class imbalance if necessary\n",
        "from sklearn.impute import SimpleImputer # Import SimpleImputer\n",
        "\n",
        "if y.value_counts().min() / y.value_counts().max() < 0.2:  # If one class is <20% of the other\n",
        "    print(\"\\nApplying SMOTE to balance the dataset...\")\n",
        "\n",
        "    # Impute missing values using the mean (you can choose other strategies)\n",
        "    imputer = SimpleImputer(strategy='mean')  # Create an imputer object\n",
        "    X = imputer.fit_transform(X)            # Fit and transform the data\n",
        "\n",
        "    smote = SMOTE(random_state=42)\n",
        "    X, y = smote.fit_resample(X, y)"
      ],
      "metadata": {
        "colab": {
          "base_uri": "https://localhost:8080/",
          "height": 0
        },
        "id": "w004f8G537J7",
        "outputId": "ef95a7f2-8cf7-442c-e8d0-218af2396e6c"
      },
      "execution_count": 112,
      "outputs": [
        {
          "output_type": "stream",
          "name": "stdout",
          "text": [
            "\n",
            "Applying SMOTE to balance the dataset...\n"
          ]
        },
        {
          "output_type": "stream",
          "name": "stderr",
          "text": [
            "/usr/local/lib/python3.11/dist-packages/sklearn/impute/_base.py:635: UserWarning: Skipping features without any observed values: ['Member_Frequent_Claims_30Days']. At least one non-missing value is needed for imputation with strategy='mean'.\n",
            "  warnings.warn(\n"
          ]
        }
      ]
    },
    {
      "cell_type": "code",
      "source": [
        "# Split data into training (80%) and testing (20%) sets\n",
        "X_train, X_test, y_train, y_test = train_test_split(X, y, test_size=0.2, random_state=42)\n"
      ],
      "metadata": {
        "id": "SLMDb5A0zKCs"
      },
      "execution_count": 113,
      "outputs": []
    },
    {
      "cell_type": "code",
      "source": [
        "# Train a simple model (Random Forest Classifier)\n",
        "model = RandomForestClassifier(n_estimators=100, random_state=42)\n",
        "model.fit(X_train, y_train)\n",
        "rf_probs = model.predict_proba(X_test)[:, 1]"
      ],
      "metadata": {
        "id": "i_rznsTpzMRj"
      },
      "execution_count": 114,
      "outputs": []
    },
    {
      "cell_type": "code",
      "source": [
        "# Make predictions\n",
        "y_pred = model.predict(X_test)\n",
        "# Print the first 10 predictions\n",
        "print(y_pred[:10])"
      ],
      "metadata": {
        "colab": {
          "base_uri": "https://localhost:8080/",
          "height": 0
        },
        "id": "FSE8gTjGzOgb",
        "outputId": "7a90098d-34ae-4694-d5f1-53e83777bba5"
      },
      "execution_count": 115,
      "outputs": [
        {
          "output_type": "stream",
          "name": "stdout",
          "text": [
            "[0 1 0 1 1 0 1 0 0 0]\n"
          ]
        }
      ]
    },
    {
      "cell_type": "code",
      "source": [
        "# Creating a DataFrame with actual and predicted values\n",
        "results_df = pd.DataFrame({'Actual': y_test, 'Predicted': y_pred})\n",
        "print(results_df.head(20))  # Print the first 20 rows"
      ],
      "metadata": {
        "colab": {
          "base_uri": "https://localhost:8080/",
          "height": 0
        },
        "id": "08pQn1adBAvF",
        "outputId": "cb0c1a51-3327-4ea3-dd91-158e80a8fbda"
      },
      "execution_count": 116,
      "outputs": [
        {
          "output_type": "stream",
          "name": "stdout",
          "text": [
            "      Actual  Predicted\n",
            "184        0          0\n",
            "1724       1          1\n",
            "251        0          0\n",
            "1121       1          1\n",
            "1486       1          1\n",
            "111        0          0\n",
            "1450       1          1\n",
            "188        0          0\n",
            "614        0          0\n",
            "220        0          0\n",
            "1175       1          1\n",
            "1794       1          1\n",
            "679        0          0\n",
            "1368       1          1\n",
            "544        0          0\n",
            "746        0          0\n",
            "570        0          0\n",
            "1656       1          1\n",
            "56         1          1\n",
            "529        1          0\n"
          ]
        }
      ]
    },
    {
      "cell_type": "code",
      "source": [
        "# Evaluate the model\n",
        "accuracy = accuracy_score(y_test, y_pred)\n",
        "print(f\"\\nModel Accuracy: {accuracy:.2f}\")"
      ],
      "metadata": {
        "colab": {
          "base_uri": "https://localhost:8080/",
          "height": 0
        },
        "id": "AHq2-7ZEzUlP",
        "outputId": "3806e86f-4b07-4836-c506-d8f86a4b5287"
      },
      "execution_count": 117,
      "outputs": [
        {
          "output_type": "stream",
          "name": "stdout",
          "text": [
            "\n",
            "Model Accuracy: 0.95\n"
          ]
        }
      ]
    },
    {
      "cell_type": "code",
      "source": [
        "# Evaluate the model performance\n",
        "print(\"Confusion Matrix:\")\n",
        "print(confusion_matrix(y_test, y_pred))\n",
        "\n",
        "print(\"\\nClassification Report:\")\n",
        "print(classification_report(y_test, y_pred))"
      ],
      "metadata": {
        "colab": {
          "base_uri": "https://localhost:8080/",
          "height": 0
        },
        "id": "pfpPQiA7aweY",
        "outputId": "c79e6ea4-e1c6-4077-b1f7-fefecd5f2d1a"
      },
      "execution_count": 118,
      "outputs": [
        {
          "output_type": "stream",
          "name": "stdout",
          "text": [
            "Confusion Matrix:\n",
            "[[206   7]\n",
            " [ 15 184]]\n",
            "\n",
            "Classification Report:\n",
            "              precision    recall  f1-score   support\n",
            "\n",
            "           0       0.93      0.97      0.95       213\n",
            "           1       0.96      0.92      0.94       199\n",
            "\n",
            "    accuracy                           0.95       412\n",
            "   macro avg       0.95      0.95      0.95       412\n",
            "weighted avg       0.95      0.95      0.95       412\n",
            "\n"
          ]
        }
      ]
    },
    {
      "cell_type": "code",
      "source": [
        "# Evaluate AUC-ROC score\n",
        "y_prob = model.predict_proba(X_test)[:, 1]  # Get probability for the positive class\n",
        "roc_auc = roc_auc_score(y_test, y_prob)\n",
        "print(\"\\nAUC-ROC Score: \", roc_auc)"
      ],
      "metadata": {
        "colab": {
          "base_uri": "https://localhost:8080/",
          "height": 0
        },
        "id": "qIXGnGZba9Jo",
        "outputId": "5ea7a2c7-0c4c-4b51-d198-7568d45df61e"
      },
      "execution_count": 119,
      "outputs": [
        {
          "output_type": "stream",
          "name": "stdout",
          "text": [
            "\n",
            "AUC-ROC Score:  0.9889588789015499\n"
          ]
        }
      ]
    },
    {
      "cell_type": "code",
      "source": [
        "# Training the liteGBM MODEL\n",
        "lgbm_model = LGBMClassifier(n_estimators=100, random_state=42)\n",
        "lgbm_model.fit(X_train, y_train)\n",
        "lgbm_pred = lgbm_model.predict(X_test)\n",
        "lgbm_probs = lgbm_model.predict_proba(X_test)[:, 1]"
      ],
      "metadata": {
        "colab": {
          "base_uri": "https://localhost:8080/",
          "height": 0
        },
        "id": "dfWbDq0MBMWG",
        "outputId": "1a8930c6-e378-468a-f15e-97825491a4ef"
      },
      "execution_count": 120,
      "outputs": [
        {
          "output_type": "stream",
          "name": "stdout",
          "text": [
            "[LightGBM] [Info] Number of positive: 829, number of negative: 815\n",
            "[LightGBM] [Info] Auto-choosing col-wise multi-threading, the overhead of testing was 0.000399 seconds.\n",
            "You can set `force_col_wise=true` to remove the overhead.\n",
            "[LightGBM] [Info] Total Bins 3057\n",
            "[LightGBM] [Info] Number of data points in the train set: 1644, number of used features: 12\n",
            "[LightGBM] [Info] [binary:BoostFromScore]: pavg=0.504258 -> initscore=0.017032\n",
            "[LightGBM] [Info] Start training from score 0.017032\n"
          ]
        },
        {
          "output_type": "stream",
          "name": "stderr",
          "text": [
            "/usr/local/lib/python3.11/dist-packages/sklearn/utils/deprecation.py:151: FutureWarning: 'force_all_finite' was renamed to 'ensure_all_finite' in 1.6 and will be removed in 1.8.\n",
            "  warnings.warn(\n",
            "/usr/local/lib/python3.11/dist-packages/sklearn/utils/deprecation.py:151: FutureWarning: 'force_all_finite' was renamed to 'ensure_all_finite' in 1.6 and will be removed in 1.8.\n",
            "  warnings.warn(\n",
            "/usr/local/lib/python3.11/dist-packages/sklearn/utils/deprecation.py:151: FutureWarning: 'force_all_finite' was renamed to 'ensure_all_finite' in 1.6 and will be removed in 1.8.\n",
            "  warnings.warn(\n"
          ]
        }
      ]
    },
    {
      "cell_type": "code",
      "source": [
        "# Evaluate Models\n",
        "print(\"\\nRandom Forest Performance:\")\n",
        "print(classification_report(y_test, y_pred))\n",
        "print(f\"AUC-ROC Score: {roc_auc_score(y_test, rf_probs):.2f}\")\n",
        "\n",
        "print(\"\\nLightGBM Performance:\")\n",
        "print(classification_report(y_test, lgbm_pred))\n",
        "print(f\"AUC-ROC Score: {roc_auc_score(y_test, lgbm_probs):.2f}\")"
      ],
      "metadata": {
        "colab": {
          "base_uri": "https://localhost:8080/",
          "height": 0
        },
        "id": "BZgeMA2PCViG",
        "outputId": "62399339-1d18-4231-95c9-ffe51d2b5972"
      },
      "execution_count": 121,
      "outputs": [
        {
          "output_type": "stream",
          "name": "stdout",
          "text": [
            "\n",
            "Random Forest Performance:\n",
            "              precision    recall  f1-score   support\n",
            "\n",
            "           0       0.93      0.97      0.95       213\n",
            "           1       0.96      0.92      0.94       199\n",
            "\n",
            "    accuracy                           0.95       412\n",
            "   macro avg       0.95      0.95      0.95       412\n",
            "weighted avg       0.95      0.95      0.95       412\n",
            "\n",
            "AUC-ROC Score: 0.99\n",
            "\n",
            "LightGBM Performance:\n",
            "              precision    recall  f1-score   support\n",
            "\n",
            "           0       0.95      0.98      0.96       213\n",
            "           1       0.98      0.94      0.96       199\n",
            "\n",
            "    accuracy                           0.96       412\n",
            "   macro avg       0.96      0.96      0.96       412\n",
            "weighted avg       0.96      0.96      0.96       412\n",
            "\n",
            "AUC-ROC Score: 0.98\n"
          ]
        }
      ]
    },
    {
      "cell_type": "code",
      "source": [
        "# Evaluate the model performance\n",
        "print(\"Confusion Matrix:\")\n",
        "print(confusion_matrix(y_test, y_pred))\n",
        "\n",
        "print(\"\\nClassification Report:\")\n",
        "print(classification_report(y_test, y_pred))\n"
      ],
      "metadata": {
        "colab": {
          "base_uri": "https://localhost:8080/",
          "height": 0
        },
        "id": "OooUGpnbmX4v",
        "outputId": "a59fa646-72f7-4379-f525-817e05f94966"
      },
      "execution_count": 129,
      "outputs": [
        {
          "output_type": "stream",
          "name": "stdout",
          "text": [
            "Confusion Matrix:\n",
            "[[206   7]\n",
            " [ 15 184]]\n",
            "\n",
            "Classification Report:\n",
            "              precision    recall  f1-score   support\n",
            "\n",
            "           0       0.93      0.97      0.95       213\n",
            "           1       0.96      0.92      0.94       199\n",
            "\n",
            "    accuracy                           0.95       412\n",
            "   macro avg       0.95      0.95      0.95       412\n",
            "weighted avg       0.95      0.95      0.95       412\n",
            "\n"
          ]
        }
      ]
    },
    {
      "cell_type": "code",
      "source": [
        "#Plot confusion matrix using seaborn heatmap\n",
        "plt.figure(figsize=(8, 6))  # Adjust figure size if needed\n",
        "sns.heatmap(cm, annot=True, fmt=\"d\", cmap=\"Blues\",\n",
        "            xticklabels=['Non-Fraudulent', 'Fraudulent'],\n",
        "            yticklabels=['Non-Fraudulent', 'Fraudulent'])\n",
        "plt.xlabel(\"Predicted Label\")\n",
        "plt.ylabel(\"True Label\")\n",
        "plt.title(\"Confusion Matrix for Random Forest\")\n",
        "plt.show()"
      ],
      "metadata": {
        "colab": {
          "base_uri": "https://localhost:8080/",
          "height": 564
        },
        "id": "1836swvVovwE",
        "outputId": "8b082d89-a4e4-4626-aca2-4d71b5bddb87"
      },
      "execution_count": 131,
      "outputs": [
        {
          "output_type": "display_data",
          "data": {
            "text/plain": [
              "<Figure size 800x600 with 2 Axes>"
            ],
            "image/png": "[encoded data removed]"
          },
          "metadata": {}
        }
      ]
    },
    {
      "cell_type": "code",
      "source": [
        "plt.figure(figsize=(6, 4))\n",
        "\n",
        "# Plot ROC curve for Random Forest\n",
        "plt.plot(fpr, tpr, color='darkorange', lw=2, label='Random Forest (AUC = %0.2f)' % roc_auc)\n",
        "\n",
        "# Plot ROC curve for LightGBM\n",
        "plt.plot(lgbm_fpr, lgbm_tpr, color='green', lw=2, label='LightGBM (AUC = %0.2f)' % lgbm_roc_auc)\n",
        "\n",
        "plt.plot([0, 1], [0, 1], color='navy', lw=2, linestyle='--')\n",
        "plt.xlim([0.0, 1.0])\n",
        "plt.ylim([0.0, 1.05])\n",
        "plt.xlabel('False Positive Rate')\n",
        "plt.ylabel('True Positive Rate')\n",
        "plt.title('Receiver Operating Characteristic (ROC) Curve')\n",
        "plt.legend(loc=\"lower right\")\n",
        "plt.show()\n",
        "#Comparing the AUC Scores:\n",
        "print(\"Random Forest AUC:\", roc_auc)\n",
        "print(\"LightGBM AUC:\", lgbm_roc_auc)"
      ],
      "metadata": {
        "colab": {
          "base_uri": "https://localhost:8080/",
          "height": 445
        },
        "id": "Uj9Yxwk5mlyK",
        "outputId": "82af7b0c-7d05-49cf-d910-a4996f092abb"
      },
      "execution_count": 128,
      "outputs": [
        {
          "output_type": "display_data",
          "data": {
            "text/plain": [
              "<Figure size 600x400 with 1 Axes>"
            ],
            "image/png": "[encoded data removed]"
          },
          "metadata": {}
        },
        {
          "output_type": "stream",
          "name": "stdout",
          "text": [
            "Random Forest AUC: 0.9889588789015499\n",
            "LightGBM AUC: 0.9841224903862034\n"
          ]
        }
      ]
    },
    {
      "cell_type": "markdown",
      "source": [
        "Creating the risk scores for the claims and categorizing them"
      ],
      "metadata": {
        "id": "htxsdnUyzVch"
      }
    },
    {
      "cell_type": "code",
      "source": [
        "\n",
        "def calculate_risk_score(df):\n",
        "    \"\"\"\n",
        "    Calculate comprehensive risk score for claims\n",
        "\n",
        "    Parameters:\n",
        "    df (DataFrame): Claims dataset\n",
        "\n",
        "    Returns:\n",
        "    DataFrame with risk score and risk category\n",
        "    \"\"\"\n",
        "    # Claim Amount Risk (z-score normalization)\n",
        "    def claim_amount_risk(amounts):\n",
        "        mean = amounts.mean()\n",
        "        std = amounts.std()\n",
        "        return np.abs((amounts - mean) / std)\n",
        "\n",
        "    # Previous Claims Risk\n",
        "    def previous_claims_risk(claims):\n",
        "        return np.log1p(claims) / np.log1p(claims.max())\n",
        "\n",
        "    # High Claim Amount Risk\n",
        "    def high_claim_risk(high_amounts):\n",
        "        return np.abs(high_amounts - 1)\n",
        "\n",
        "    # Submission Pattern Risk\n",
        "    def submission_pattern_risk(days, hours):\n",
        "        weekend_risk = (days >= 5).astype(int) * 0.5\n",
        "        off_hours_risk = ((hours < 8) | (hours > 18)).astype(int) * 0.5\n",
        "        return weekend_risk + off_hours_risk\n",
        "\n",
        "    # Calculate risk components\n",
        "    risk_components = {\n",
        "        'claim_amount_risk': claim_amount_risk(df['Claim Amount']),\n",
        "        'previous_claims_risk': previous_claims_risk(df['Previous Claims']),\n",
        "        'high_claim_risk': high_claim_risk(df['High_Claim_Amount']),\n",
        "        'submission_pattern_risk': submission_pattern_risk(\n",
        "            df['Claim_Submission_DayOfWeek'],\n",
        "            df['Claim_Submission_Hour']\n",
        "        )\n",
        "    }\n",
        "\n",
        "    # Weighted risk score calculation\n",
        "    df['Risk_Score'] = (\n",
        "        0.3 * risk_components['claim_amount_risk'] +\n",
        "        0.2 * risk_components['previous_claims_risk'] +\n",
        "        0.3 * risk_components['high_claim_risk'] +\n",
        "        0.2 * risk_components['submission_pattern_risk']\n",
        "    )\n",
        "\n",
        "    # Normalize to 0-100 scale\n",
        "    df['Risk_Score'] = ((df['Risk_Score'] - df['Risk_Score'].min()) /\n",
        "                        (df['Risk_Score'].max() - df['Risk_Score'].min())) * 100\n",
        "\n",
        "    # Risk categorization\n",
        "    df['Risk_Category'] = pd.cut(\n",
        "        df['Risk_Score'],\n",
        "        bins=[0, 30, 60, 80, 100],\n",
        "        labels=['Low', 'Medium', 'High', 'Very High']\n",
        "    )\n",
        "\n",
        "    return df\n",
        "\n",
        "# Example usage in Google Colab\n",
        "# Assuming df is your preprocessed claims DataFrame\n",
        "df = calculate_risk_score(df)\n",
        "\n",
        "# Investigate high-risk claims\n",
        "high_risk_claims = df[df['Risk_Category'].isin(['High', 'Very High'])]\n",
        "print(\"High Risk Claims:\")\n",
        "print(high_risk_claims[['Claim ID', 'Risk_Score', 'Risk_Category']])"
      ],
      "metadata": {
        "colab": {
          "base_uri": "https://localhost:8080/",
          "height": 0
        },
        "id": "JmkGP_tyrCnj",
        "outputId": "45b7bdec-e8d8-41ab-94a7-48412ee34487"
      },
      "execution_count": 132,
      "outputs": [
        {
          "output_type": "stream",
          "name": "stdout",
          "text": [
            "High Risk Claims:\n",
            "       Claim ID  Risk_Score Risk_Category\n",
            "16  CLAIM_00017   77.733142          High\n",
            "33  CLAIM_00034   91.158549     Very High\n",
            "36  CLAIM_00037   79.086874          High\n",
            "80  CLAIM_00081   60.538954          High\n",
            "84  CLAIM_00085   70.752878          High\n",
            "93  CLAIM_00094  100.000000     Very High\n"
          ]
        }
      ]
    },
    {
      "cell_type": "code",
      "source": [
        "def advanced_model_validation(model, X, y):\n",
        "    \"\"\"\n",
        "    Comprehensive model validation techniques\n",
        "\n",
        "    Parameters:\n",
        "    model: Trained classification model\n",
        "    X: Feature matrix\n",
        "    y: Target variable\n",
        "    \"\"\"\n",
        "    # 1. Cross-Validation\n",
        "    cv = StratifiedKFold(n_splits=5, shuffle=True, random_state=42)\n",
        "    cv_scores = cross_val_score(model, X, y, cv=cv, scoring='f1')\n",
        "    print(\"Cross-Validation Scores:\", cv_scores)\n",
        "    print(\"Mean CV Score:\", cv_scores.mean())\n",
        ""
      ],
      "metadata": {
        "id": "vWs4T-ahrCWS"
      },
      "execution_count": 144,
      "outputs": []
    },
    {
      "cell_type": "code",
      "source": [
        "def create_risk_score_dataframe(df):\n",
        "    \"\"\"\n",
        "    Calculate and create a DataFrame with risk scores\n",
        "\n",
        "    Parameters:\n",
        "    df (DataFrame): Original claims dataset\n",
        "\n",
        "    Returns:\n",
        "    DataFrame with risk score details\n",
        "    \"\"\"\n",
        "\n",
        "    # Call calculate_risk_score function to get risk scores and category\n",
        "    risk_df = calculate_risk_score(df)  # No need to copy here as calculate_risk_score already returns a copy\n",
        "\n",
        "    # Reset index before combining to avoid duplicate index issues\n",
        "    risk_df = risk_df.reset_index(drop=True)  # Reset index of risk_df\n",
        "    df = df.reset_index(drop=True)  # Reset index of original df before concat\n",
        "\n",
        "    # Select only risk columns and rename them to avoid conflicts\n",
        "    risk_columns = risk_df[['Risk_Score', 'Risk_Category']].add_prefix('Calculated_')\n",
        "\n",
        "    # Combine original df with risk score columns\n",
        "    result_df = pd.concat([df, risk_columns], axis=1)\n",
        "\n",
        "    return result_df"
      ],
      "metadata": {
        "id": "4Wkm1m0DwIbU"
      },
      "execution_count": 145,
      "outputs": []
    },
    {
      "cell_type": "code",
      "source": [
        "def continuous_model_improvement(model, new_data):\n",
        "    \"\"\"\n",
        "    Strategies for ongoing model enhancement\n",
        "\n",
        "    Parameters:\n",
        "    model: Current trained model\n",
        "    new_data: Newly available claims data\n",
        "    \"\"\"\n",
        "    # 1. Periodic Retraining\n",
        "    # Combine existing and new data\n",
        "    X_updated = np.vstack([X, new_data['features']])\n",
        "    y_updated = np.concatenate([y, new_data['labels']])\n",
        "\n",
        "    # Retrain model\n",
        "    updated_model = type(model)()\n",
        "    updated_model.fit(X_updated, y_updated)\n",
        "\n",
        "    # 2. Feature Importance Analysis\n",
        "    feature_importances = updated_model.feature_importances_\n",
        "    important_features = sorted(\n",
        "        zip(original_X_columns, feature_importances),\n",
        "        key=lambda x: x[1],\n",
        "        reverse=True\n",
        "    )\n",
        "\n",
        "    # 3. Anomaly Detection Feedback Loop\n",
        "    # Track misclassified claims for manual review\n",
        "    misclassified_claims = X_test[y_test != y_pred]\n",
        "\n",
        "    return updated_model, important_features, misclassified_claims"
      ],
      "metadata": {
        "id": "B7R8mhq5s1Ra"
      },
      "execution_count": 146,
      "outputs": []
    },
    {
      "cell_type": "code",
      "source": [
        "#creating the new data frame with the risk scores\n",
        "def create_risk_score_dataframe(df):\n",
        "    \"\"\"\n",
        "    Calculate and create a DataFrame with risk scores\n",
        "\n",
        "    Parameters:\n",
        "    df (DataFrame): Original claims dataset\n",
        "\n",
        "    Returns:\n",
        "    DataFrame with risk score details\n",
        "    \"\"\"\n",
        "\n",
        "    # Call calculate_risk_score function to get risk scores and category\n",
        "    risk_df = calculate_risk_score(df)  # No need to copy here as calculate_risk_score already returns a copy\n",
        "\n",
        "    # Reset index before combining to avoid duplicate index issues\n",
        "    risk_df = risk_df.reset_index(drop=True)  # Reset index of risk_df\n",
        "    df = df.reset_index(drop=True)  # Reset index of original df before concat\n",
        "\n",
        "    # Select only risk columns and rename them to avoid conflicts\n",
        "    risk_columns = risk_df[['Risk_Score', 'Risk_Category']].add_prefix('Calculated_')\n",
        "\n",
        "    # Combine original df with risk score columns\n",
        "    result_df = pd.concat([df, risk_columns], axis=1)\n",
        "\n",
        "    return result_df\n",
        "\n",
        "# Usage\n",
        "risk_scored_df = create_risk_score_dataframe(df)\n",
        "\n",
        "# Print the new DataFrame with risk scores\n",
        "print(\"DataFrame with Risk Scores:\")\n",
        "print(risk_scored_df[['Claim ID', 'Risk_Score', 'Risk_Category']])  # Print specific columns or the entire DataFrame"
      ],
      "metadata": {
        "colab": {
          "base_uri": "https://localhost:8080/",
          "height": 0
        },
        "id": "f_aWr2FMyKvX",
        "outputId": "38c6e786-068f-45b3-c3d3-890545ab1598"
      },
      "execution_count": 150,
      "outputs": [
        {
          "output_type": "stream",
          "name": "stdout",
          "text": [
            "DataFrame with Risk Scores:\n",
            "         Claim ID  Risk_Score Risk_Category\n",
            "0     CLAIM_00001    7.153354           Low\n",
            "1     CLAIM_00002   17.840559           Low\n",
            "2     CLAIM_00003    6.022547           Low\n",
            "3     CLAIM_00004    1.998035           Low\n",
            "4     CLAIM_00005    7.791242           Low\n",
            "...           ...         ...           ...\n",
            "1115    CLAIM_207   11.393096           Low\n",
            "1116    CLAIM_371    7.607885           Low\n",
            "1117    CLAIM_961    2.373313           Low\n",
            "1118    CLAIM_536    7.251588           Low\n",
            "1119    CLAIM_203    4.878643           Low\n",
            "\n",
            "[1120 rows x 3 columns]\n"
          ]
        }
      ]
    }
  ]
}